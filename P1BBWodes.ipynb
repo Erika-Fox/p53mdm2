{
 "cells": [
  {
   "cell_type": "code",
   "execution_count": 1,
   "metadata": {},
   "outputs": [],
   "source": [
    "from periodic_orbits import is_periodic, is_equilibrium, stg_coordinate, get_periodic_domains\n",
    "from ode_functions import theta_from_param,ic_function, fun, convert_to_dict, get_parameter_node, get_ic_domain, plot_projections, plot_time_series, plot_phase_projection\n",
    "from ipynb.fs.full.ode_functions import *\n",
    "from periodic_orbits2 import check_sequence\n",
    "import scipy\n",
    "import numpy as np\n",
    "import matplotlib.pyplot as plt\n",
    "import pandas as pd\n",
    "import warnings\n",
    "from sklearn.decomposition import PCA"
   ]
  },
  {
   "cell_type": "code",
   "execution_count": 2,
   "metadata": {},
   "outputs": [],
   "source": [
    "#decay rates\n",
    "decays = {'d_p' : 1, 'd_mc' : 1, 'd_mn' : 1}\n",
    "\n",
    "#hill coefficient\n",
    "n = 90\n",
    "\n",
    "#ode solver parameters\n",
    "t0 = 0\n",
    "tf = 100"
   ]
  },
  {
   "cell_type": "code",
   "execution_count": 3,
   "metadata": {},
   "outputs": [],
   "source": [
    "#Import parameters\n",
    "\n",
    "b1 = pd.read_csv(\"Parameter_datasets/P1BBWnode1.csv\", header = None)\n",
    "bparams1 = convert_to_dict(b1)\n",
    "\n",
    "b2 = pd.read_csv(\"Parameter_datasets/P1BBWnode2.csv\", header = None)\n",
    "bparams2 = convert_to_dict(b2)\n",
    "\n",
    "b3 = pd.read_csv(\"Parameter_datasets/P1BBWnode3.csv\", header = None)\n",
    "bparams3 = convert_to_dict(b3)\n",
    "\n",
    "b4 = pd.read_csv(\"Parameter_datasets/P1BBWnode4.csv\", header = None)\n",
    "bparams4 = convert_to_dict(b4)\n",
    "\n",
    "b5 = pd.read_csv(\"Parameter_datasets/P1BBWnode5.csv\", header = None)\n",
    "bparams5 = convert_to_dict(b5)\n",
    "\n",
    "b6 = pd.read_csv(\"Parameter_datasets/P1BBWnode6.csv\", header = None)\n",
    "bparams6 = convert_to_dict(b6)\n",
    "\n",
    "b7 = pd.read_csv(\"Parameter_datasets/P1BBWnode7.csv\", header = None)\n",
    "bparams7 = convert_to_dict(b7)\n",
    "\n",
    "b8 = pd.read_csv(\"Parameter_datasets/P1BBWnode8.csv\", header = None)\n",
    "bparams8 = convert_to_dict(b8)\n",
    "\n",
    "b9 = pd.read_csv(\"Parameter_datasets/P1BBWnode9.csv\", header = None)\n",
    "bparams9 = convert_to_dict(b9)\n",
    "\n",
    "b10 = pd.read_csv(\"Parameter_datasets/P1BBWnode10.csv\", header = None)\n",
    "bparams10 = convert_to_dict(b10)\n",
    "\n",
    "b_params = [bparams1, bparams2, bparams3, bparams4, bparams5, bparams6, bparams7, bparams8, bparams9,\n",
    "             bparams10]"
   ]
  },
  {
   "cell_type": "code",
   "execution_count": 4,
   "metadata": {},
   "outputs": [],
   "source": [
    "#generate ICs in 111 region of parameter 1\n",
    "b_ICs = []\n",
    "for i in range(10):\n",
    "    b_ICs.append(ic_function(\"111\", b_params[0]))#111, 101 both produce consistent len 6 and 8"
   ]
  },
  {
   "cell_type": "code",
   "execution_count": 14,
   "metadata": {},
   "outputs": [],
   "source": [
    "#compute orbit lengths for all parameter, initial condition combinations\n",
    "b_lengths = []#store orbit lengths, each set of 10 lengths corresponds to different ICs within same parameter\n",
    "b_sizes = []\n",
    "for param in b_params:\n",
    "    theta = theta_from_param(param)\n",
    "    for IC in b_ICs:\n",
    "        sol = scipy.integrate.solve_ivp(lambda t,y: fun(t,y,param,n,decays), [0,tf], y0 = IC, method = 'BDF')\n",
    "        output = get_periodic_domains(sol.y,theta,num_periods_to_verify = 2)\n",
    "        b_lengths.append(len(output))\n",
    "        b_sizes.append(lower_double_id(output))"
   ]
  },
  {
   "cell_type": "code",
   "execution_count": 15,
   "metadata": {
    "scrolled": true
   },
   "outputs": [
    {
     "name": "stdout",
     "output_type": "stream",
     "text": [
      "b_param 0 : [8, 8, 8, 8, 8, 8, 8, 8, 8, 8]\n",
      "b_param 1 : [8, 8, 8, 8, 8, 8, 8, 8, 8, 8]\n",
      "b_param 2 : [6, 6, 6, 6, 6, 6, 6, 6, 6, 6]\n",
      "b_param 3 : [8, 8, 8, 8, 8, 8, 8, 8, 8, 8]\n",
      "b_param 4 : [6, 6, 6, 6, 6, 6, 6, 6, 6, 6]\n",
      "b_param 5 : [6, 6, 6, 6, 6, 6, 6, 6, 6, 6]\n",
      "b_param 6 : [8, 8, 8, 8, 8, 8, 8, 8, 8, 8]\n",
      "b_param 7 : [6, 6, 6, 6, 6, 6, 6, 6, 6, 6]\n",
      "b_param 8 : [6, 6, 6, 6, 6, 6, 6, 6, 6, 6]\n",
      "b_param 9 : [8, 8, 8, 8, 8, 8, 8, 8, 8, 8]\n"
     ]
    }
   ],
   "source": [
    "#observe orbit lengths (columns are different initial conditions)\n",
    "endpts = [0,10,20,30,40,50,60,70,80,90,100]\n",
    "for i in range(len(endpts)-1):\n",
    "    print('b_param', i, ':', b_lengths[endpts[i]:endpts[i+1]])"
   ]
  },
  {
   "cell_type": "code",
   "execution_count": 16,
   "metadata": {},
   "outputs": [
    {
     "name": "stdout",
     "output_type": "stream",
     "text": [
      "b_param 0 : ['Large', 'Large', 'Large', 'Large', 'Large', 'Large', 'Large', 'Large', 'Large', 'Large']\n",
      "b_param 1 : ['Large', 'Large', 'Large', 'Large', 'Large', 'Large', 'Large', 'Large', 'Large', 'Large']\n",
      "b_param 2 : ['Small', 'Small', 'Small', 'Small', 'Small', 'Small', 'Small', 'Small', 'Small', 'Small']\n",
      "b_param 3 : ['Large', 'Large', 'Large', 'Large', 'Large', 'Large', 'Large', 'Large', 'Large', 'Large']\n",
      "b_param 4 : ['Small', 'Small', 'Small', 'Small', 'Small', 'Small', 'Small', 'Small', 'Small', 'Small']\n",
      "b_param 5 : ['Small', 'Small', 'Small', 'Small', 'Small', 'Small', 'Small', 'Small', 'Small', 'Small']\n",
      "b_param 6 : ['Large', 'Large', 'Large', 'Large', 'Large', 'Large', 'Large', 'Large', 'Large', 'Large']\n",
      "b_param 7 : ['Small', 'Small', 'Small', 'Small', 'Small', 'Small', 'Small', 'Small', 'Small', 'Small']\n",
      "b_param 8 : ['Small', 'Small', 'Small', 'Small', 'Small', 'Small', 'Small', 'Small', 'Small', 'Small']\n",
      "b_param 9 : ['Large', 'Large', 'Large', 'Large', 'Large', 'Large', 'Large', 'Large', 'Large', 'Large']\n"
     ]
    }
   ],
   "source": [
    "#observe orbit sizes (columns are different initial conditions)\n",
    "endpts = [0,10,20,30,40,50,60,70,80,90,100]\n",
    "for i in range(len(endpts)-1):\n",
    "    print('b_param', i, ':', b_sizes[endpts[i]:endpts[i+1]])"
   ]
  },
  {
   "cell_type": "markdown",
   "metadata": {},
   "source": [
    "So we end up getting consistent length 6 or length 8 orbits within a given parameter for different initial conditions."
   ]
  },
  {
   "cell_type": "code",
   "execution_count": 7,
   "metadata": {},
   "outputs": [
    {
     "data": {
      "text/plain": [
       "(0, 8.5)"
      ]
     },
     "execution_count": 7,
     "metadata": {},
     "output_type": "execute_result"
    },
    {
     "data": {
      "image/png": "[encoded data removed]",
      "text/plain": [
       "<Figure size 864x360 with 2 Axes>"
      ]
     },
     "metadata": {
      "needs_background": "light"
     },
     "output_type": "display_data"
    }
   ],
   "source": [
    "#compare two ICs\n",
    "param = b_params[0]\n",
    "sol0 = scipy.integrate.solve_ivp(lambda t,y: fun(t,y,param,n,decays), [0,tf], y0 = b_ICs[0], method = 'BDF')\n",
    "sol1 = scipy.integrate.solve_ivp(lambda t,y: fun(t,y,param,n,decays), [0,tf], y0 = b_ICs[1], method = 'BDF')\n",
    "\n",
    "fig,(ax1,ax2) = plot_projections(sol0, param)\n",
    "plot_projections(sol1, param, axs = (ax1, ax2))\n",
    "# ax1.set_xlim(1,2.75)\n",
    "# ax1.set_ylim(0.3,0.8)\n",
    "ax2.set_xlim(0.6,1)\n",
    "ax2.set_ylim(0,8.5)"
   ]
  },
  {
   "cell_type": "markdown",
   "metadata": {},
   "source": [
    "Now, examine all possibles lines of parameters between length 6 and a length 8 orbits to see if hysteresis is a possibility."
   ]
  },
  {
   "cell_type": "code",
   "execution_count": 8,
   "metadata": {},
   "outputs": [],
   "source": [
    "large, small = separate(b_params, '111')"
   ]
  },
  {
   "cell_type": "code",
   "execution_count": 12,
   "metadata": {},
   "outputs": [],
   "source": [
    "line_list = generate_all_lines(small, large, 50)"
   ]
  },
  {
   "cell_type": "code",
   "execution_count": 13,
   "metadata": {},
   "outputs": [
    {
     "name": "stderr",
     "output_type": "stream",
     "text": [
      "/Users/Erika/Documents/Math/Research/periodic_orbits.py:96: UserWarning: get_periodic_domains looked at all time points but did not verify a periodic sequence to desired verification level of num_periods_to_verify = 2. The trajectory may not be periodic.\n",
      "  warnings.warn('get_periodic_domains looked at all time points but did not verify a periodic sequence to desired verification level of num_periods_to_verify = {}. The trajectory may not be periodic.'.format(num_periods_to_verify))\n"
     ]
    },
    {
     "name": "stdout",
     "output_type": "stream",
     "text": [
      "CPU times: user 6min 57s, sys: 3.52 s, total: 7min\n",
      "Wall time: 15min 1s\n"
     ]
    },
    {
     "data": {
      "text/plain": [
       "[False,\n",
       " False,\n",
       " False,\n",
       " False,\n",
       " False,\n",
       " False,\n",
       " False,\n",
       " False,\n",
       " False,\n",
       " False,\n",
       " False,\n",
       " False,\n",
       " False,\n",
       " False,\n",
       " False,\n",
       " False,\n",
       " False,\n",
       " False,\n",
       " False,\n",
       " False,\n",
       " False,\n",
       " False,\n",
       " False,\n",
       " False,\n",
       " False]"
      ]
     },
     "execution_count": 13,
     "metadata": {},
     "output_type": "execute_result"
    }
   ],
   "source": [
    "%%time\n",
    "check_list(line_list)"
   ]
  },
  {
   "cell_type": "markdown",
   "metadata": {},
   "source": [
    "### PCA"
   ]
  },
  {
   "cell_type": "code",
   "execution_count": 19,
   "metadata": {},
   "outputs": [],
   "source": [
    "#finally, label each parameter by its size (not length) for sake of PCA\n",
    "#0 is small, 1 is large\n",
    "b_param_colors = [1,1,0,1,0,0,1,0,0,1]\n",
    "\n",
    "bdf1 = pd.DataFrame.from_dict(bparams1, orient = 'index')\n",
    "bdf1 = bdf1.T\n",
    "bdf2 = pd.DataFrame.from_dict(bparams2, orient = 'index')\n",
    "bdf2 = bdf2.T\n",
    "bdf3 = pd.DataFrame.from_dict(bparams3, orient = 'index')\n",
    "bdf3 = bdf3.T\n",
    "bdf4 = pd.DataFrame.from_dict(bparams4, orient = 'index')\n",
    "bdf4 = bdf4.T\n",
    "bdf5 = pd.DataFrame.from_dict(bparams5, orient = 'index')\n",
    "bdf5 = bdf5.T\n",
    "bdf6 = pd.DataFrame.from_dict(bparams6, orient = 'index')\n",
    "bdf6 = bdf6.T\n",
    "bdf7 = pd.DataFrame.from_dict(bparams7, orient = 'index')\n",
    "bdf7 = bdf7.T\n",
    "bdf8 = pd.DataFrame.from_dict(bparams8, orient = 'index')\n",
    "bdf8 = bdf8.T\n",
    "bdf9 = pd.DataFrame.from_dict(bparams9, orient = 'index')\n",
    "bdf9 = bdf9.T\n",
    "bdf10 = pd.DataFrame.from_dict(bparams10, orient = 'index')\n",
    "bdf10 = bdf10.T\n",
    "\n",
    "b_param_data = pd.concat([bdf1,bdf2,bdf3,bdf4,bdf5,bdf6,bdf7,bdf8,bdf9,bdf10])\n",
    "\n",
    "b_param_data['OrbitLength'] = b_param_colors"
   ]
  },
  {
   "cell_type": "code",
   "execution_count": 20,
   "metadata": {},
   "outputs": [
    {
     "data": {
      "image/png": "[encoded data removed]",
      "text/plain": [
       "<Figure size 432x288 with 1 Axes>"
      ]
     },
     "metadata": {
      "needs_background": "light"
     },
     "output_type": "display_data"
    }
   ],
   "source": [
    "pca = PCA(n_components = 2)\n",
    "pca.fit(b_param_data.iloc[:,0:17])\n",
    "b_pca = pca.transform(b_param_data.iloc[:,0:17])\n",
    "\n",
    "labels = b_param_data.loc[:,'OrbitLength']\n",
    "label_colors = {0:'maroon',1:'blue'}\n",
    "cvec = [label_colors[label] for label in labels]\n",
    "plt.scatter(b_pca[:,0],b_pca[:,1], c = cvec)\n",
    "plt.scatter(25,25,c = 'blue',label = 'Large')#point at (25,25) just for labeling purposes\n",
    "plt.scatter(25,25,c = 'maroon', label = 'Small')\n",
    "plt.xlim(-5,5)\n",
    "plt.ylim(-5,5)\n",
    "plt.title('PCA of orbit size, B Black Wall')\n",
    "plt.legend(loc = 'best')\n",
    "# plt.savefig('pca_all_attributes.png')\n",
    "plt.show()\n",
    "plt.close()"
   ]
  },
  {
   "cell_type": "markdown",
   "metadata": {},
   "source": [
    "Perhaps a small bit of separation exists?"
   ]
  },
  {
   "cell_type": "code",
   "execution_count": null,
   "metadata": {},
   "outputs": [],
   "source": []
  }
 ],
 "metadata": {
  "kernelspec": {
   "display_name": "Python 3",
   "language": "python",
   "name": "python3"
  },
  "language_info": {
   "codemirror_mode": {
    "name": "ipython",
    "version": 3
   },
   "file_extension": ".py",
   "mimetype": "text/x-python",
   "name": "python",
   "nbconvert_exporter": "python",
   "pygments_lexer": "ipython3",
   "version": "3.7.6"
  }
 },
 "nbformat": 4,
 "nbformat_minor": 4
}
