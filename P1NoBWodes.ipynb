{
 "cells": [
  {
   "cell_type": "code",
   "execution_count": 1,
   "metadata": {},
   "outputs": [],
   "source": [
    "from periodic_orbits import is_periodic, is_equilibrium, stg_coordinate, get_periodic_domains\n",
    "from ode_functions import theta_from_param,ic_function, fun, convert_to_dict, get_parameter_node, get_ic_domain, plot_projections, plot_time_series, plot_phase_projection\n",
    "from ipynb.fs.full.ode_functions import get_param_distance, param_line, lower_double_id, upper_double_id, separate, generate_all_lines, check_list\n",
    "from periodic_orbits2 import check_sequence\n",
    "import scipy\n",
    "import numpy as np\n",
    "import matplotlib.pyplot as plt\n",
    "import pandas as pd\n",
    "import warnings\n",
    "from sklearn.decomposition import PCA"
   ]
  },
  {
   "cell_type": "code",
   "execution_count": 2,
   "metadata": {},
   "outputs": [],
   "source": [
    "#decay rates\n",
    "decays = {'d_p' : 1, 'd_mc' : 1, 'd_mn' : 1}\n",
    "\n",
    "#hill coefficient\n",
    "n = 90\n",
    "\n",
    "#ode solver parameters\n",
    "t0 = 0\n",
    "tf = 100"
   ]
  },
  {
   "cell_type": "code",
   "execution_count": 3,
   "metadata": {},
   "outputs": [],
   "source": [
    "#Import parameters\n",
    "\n",
    "no1 = pd.read_csv(\"Parameter_datasets/P1NoBWnode1.csv\", header = None)\n",
    "noparams1 = convert_to_dict(no1)\n",
    "noparams1['thetaMnMc'] = noparams1['thetaMcMc']\n",
    "\n",
    "no2 = pd.read_csv(\"Parameter_datasets/P1NoBWnode2.csv\", header = None)\n",
    "noparams2 = convert_to_dict(no2)\n",
    "noparams2['thetaMnMc'] = noparams2['thetaMcMc']\n",
    "\n",
    "no3 = pd.read_csv(\"Parameter_datasets/P1NoBWnode3.csv\", header = None)\n",
    "noparams3 = convert_to_dict(no3)\n",
    "noparams3['thetaMnMc'] = noparams3['thetaMcMc']\n",
    "\n",
    "no4 = pd.read_csv(\"Parameter_datasets/P1NoBWnode4.csv\", header = None)\n",
    "noparams4 = convert_to_dict(no4)\n",
    "noparams4['thetaMnMc'] = noparams4['thetaMcMc']\n",
    "\n",
    "no5 = pd.read_csv(\"Parameter_datasets/P1NoBWnode5.csv\", header = None)\n",
    "noparams5 = convert_to_dict(no5)\n",
    "noparams5['thetaMnMc'] = noparams5['thetaMcMc']\n",
    "\n",
    "no6 = pd.read_csv(\"Parameter_datasets/P1NoBWnode6.csv\", header = None)\n",
    "noparams6 = convert_to_dict(no6)\n",
    "noparams6['thetaMnMc'] = noparams6['thetaMcMc']\n",
    "\n",
    "no7 = pd.read_csv(\"Parameter_datasets/P1NoBWnode7.csv\", header = None)\n",
    "noparams7 = convert_to_dict(no7)\n",
    "noparams7['thetaMnMc'] = noparams7['thetaMcMc']\n",
    "\n",
    "no8 = pd.read_csv(\"Parameter_datasets/P1NoBWnode8.csv\", header = None)\n",
    "noparams8 = convert_to_dict(no8)\n",
    "noparams8['thetaMnMc'] = noparams8['thetaMcMc']\n",
    "\n",
    "no9 = pd.read_csv(\"Parameter_datasets/P1NoBWnode9.csv\", header = None)\n",
    "noparams9 = convert_to_dict(no9)\n",
    "noparams9['thetaMnMc'] = noparams9['thetaMcMc']\n",
    "\n",
    "no10 = pd.read_csv(\"Parameter_datasets/P1NoBWnode10.csv\", header = None)\n",
    "noparams10 = convert_to_dict(no10)\n",
    "noparams10['thetaMnMc'] = noparams10['thetaMcMc']\n",
    "\n",
    "#generated a few more parameters in Mathematica with FindInstance. Just to see if maybe any of these give length 6.\n",
    "no11 = pd.read_csv(\"Parameter_datasets/P1NoBWnode11.csv\", header = None)\n",
    "noparams11 = convert_to_dict(no11)\n",
    "noparams11['thetaMnMc'] = noparams11['thetaMcMc']\n",
    "\n",
    "no12 = pd.read_csv(\"Parameter_datasets/P1NoBWnode12.csv\", header = None)\n",
    "noparams12 = convert_to_dict(no12)\n",
    "noparams12['thetaMnMc'] = noparams12['thetaMcMc']\n",
    "\n",
    "no13 = pd.read_csv(\"Parameter_datasets/P1NoBWnode13.csv\", header = None)\n",
    "noparams13 = convert_to_dict(no13)\n",
    "noparams13['thetaMnMc'] = noparams13['thetaMcMc']\n",
    "\n",
    "no14 = pd.read_csv(\"Parameter_datasets/P1NoBWnode14.csv\", header = None)\n",
    "noparams14 = convert_to_dict(no14)\n",
    "noparams14['thetaMnMc'] = noparams14['thetaMcMc']\n",
    "\n",
    "no15 = pd.read_csv(\"Parameter_datasets/P1NoBWnode15.csv\", header = None)\n",
    "noparams15 = convert_to_dict(no15)\n",
    "noparams15['thetaMnMc'] = noparams15['thetaMcMc']\n",
    "\n",
    "no16 = pd.read_csv(\"Parameter_datasets/P1NoBWnode16.csv\", header = None)\n",
    "noparams16 = convert_to_dict(no16)\n",
    "noparams16['thetaMnMc'] = noparams16['thetaMcMc']\n",
    "\n",
    "no17 = pd.read_csv(\"Parameter_datasets/P1NoBWnode17.csv\", header = None)\n",
    "noparams17 = convert_to_dict(no17)\n",
    "noparams17['thetaMnMc'] = noparams17['thetaMcMc']\n",
    "\n",
    "no18 = pd.read_csv(\"Parameter_datasets/P1NoBWnode18.csv\", header = None)\n",
    "noparams18 = convert_to_dict(no18)\n",
    "noparams18['thetaMnMc'] = noparams18['thetaMcMc']\n",
    "\n",
    "no19 = pd.read_csv(\"Parameter_datasets/P1NoBWnode19.csv\", header = None)\n",
    "noparams19 = convert_to_dict(no19)\n",
    "noparams19['thetaMnMc'] = noparams19['thetaMcMc']\n",
    "\n",
    "no_params = [noparams1, noparams2, noparams3, noparams4, noparams5, noparams6, noparams7, noparams8, noparams9,\n",
    "             noparams10, noparams11, noparams12, noparams13, noparams14, noparams15, noparams16, noparams17, \n",
    "             noparams18, noparams19]"
   ]
  },
  {
   "cell_type": "code",
   "execution_count": 4,
   "metadata": {},
   "outputs": [],
   "source": [
    "#generate ICs in 112 region of parameter 1\n",
    "no_ICs = []\n",
    "for i in range(10):\n",
    "    no_ICs.append(ic_function(\"112\", no_params[0]))"
   ]
  },
  {
   "cell_type": "code",
   "execution_count": 5,
   "metadata": {},
   "outputs": [
    {
     "name": "stderr",
     "output_type": "stream",
     "text": [
      "/Users/Erika/Documents/Math/Research/periodic_orbits.py:96: UserWarning: get_periodic_domains looked at all time points but did not verify a periodic sequence to desired verification level of num_periods_to_verify = 2. The trajectory may not be periodic.\n",
      "  warnings.warn('get_periodic_domains looked at all time points but did not verify a periodic sequence to desired verification level of num_periods_to_verify = {}. The trajectory may not be periodic.'.format(num_periods_to_verify))\n"
     ]
    }
   ],
   "source": [
    "#compute orbit lengths for all parameter, initial condition combinations\n",
    "no_lengths = []#store orbit lengths, each set of 10 lengths corresponds to different ICs within same parameter\n",
    "no_sizes = []\n",
    "for param in no_params:\n",
    "    theta = theta_from_param(param)\n",
    "    for IC in no_ICs:\n",
    "        sol = scipy.integrate.solve_ivp(lambda t,y: fun(t,y,param,n,decays), [0,tf], y0 = IC, method = 'BDF')\n",
    "        output = get_periodic_domains(sol.y,theta,num_periods_to_verify = 2)\n",
    "        no_lengths.append(len(output))\n",
    "        no_sizes.append(lower_double_id(output))"
   ]
  },
  {
   "cell_type": "code",
   "execution_count": 6,
   "metadata": {},
   "outputs": [
    {
     "name": "stdout",
     "output_type": "stream",
     "text": [
      "no_param 0 : [8, 8, 8, 8, 8, 8, 8, 8, 70, 8]\n",
      "no_param 1 : [84, 8, 8, 8, 7, 7, 7, 8, 8, 7]\n",
      "no_param 2 : [8, 8, 8, 8, 8, 8, 8, 8, 8, 8]\n",
      "no_param 3 : [8, 8, 8, 8, 8, 8, 8, 8, 8, 8]\n",
      "no_param 4 : [8, 8, 8, 8, 8, 8, 8, 8, 8, 8]\n",
      "no_param 5 : [7, 7, 7, 7, 7, 7, 7, 7, 7, 7]\n",
      "no_param 6 : [8, 8, 8, 8, 8, 8, 8, 8, 8, 8]\n",
      "no_param 7 : [8, 8, 8, 8, 8, 8, 8, 8, 8, 8]\n",
      "no_param 8 : [8, 77, 7, 8, 8, 8, 8, 7, 7, 8]\n",
      "no_param 9 : [8, 8, 8, 8, 8, 8, 8, 8, 8, 8]\n",
      "no_param 10 : [6, 6, 6, 6, 6, 6, 6, 6, 6, 6]\n",
      "no_param 11 : [8, 8, 8, 8, 8, 8, 8, 8, 8, 8]\n",
      "no_param 12 : [8, 8, 8, 8, 8, 8, 8, 8, 70, 8]\n",
      "no_param 13 : [8, 8, 8, 8, 8, 8, 8, 8, 8, 8]\n",
      "no_param 14 : [7, 8, 80, 7, 112, 8, 7, 105, 7, 140]\n",
      "no_param 15 : [8, 8, 8, 8, 8, 8, 8, 8, 70, 8]\n",
      "no_param 16 : [8, 8, 8, 8, 8, 8, 8, 8, 8, 8]\n",
      "no_param 17 : [8, 8, 8, 8, 8, 8, 8, 8, 8, 8]\n",
      "no_param 18 : [6, 6, 6, 6, 6, 6, 6, 6, 6, 6]\n"
     ]
    }
   ],
   "source": [
    "#observe orbit lengths (columns are different initial conditions)\n",
    "endpts = [0,10,20,30,40,50,60,70,80,90,100,110,120,130,140,150,160,170,180,190]\n",
    "for i in range(len(endpts)-1):\n",
    "    print('no_param', i, ':', no_lengths[endpts[i]:endpts[i+1]])"
   ]
  },
  {
   "cell_type": "code",
   "execution_count": 7,
   "metadata": {},
   "outputs": [
    {
     "name": "stdout",
     "output_type": "stream",
     "text": [
      "no_param 0 : ['Large', 'Large', 'Large', 'Large', 'Large', 'Large', 'Large', 'Large', 'Large', 'Large']\n",
      "no_param 1 : ['Large', 'Large', 'Large', 'Large', 'Large', 'Large', 'Large', 'Large', 'Large', 'Large']\n",
      "no_param 2 : ['Large', 'Large', 'Large', 'Large', 'Large', 'Large', 'Large', 'Large', 'Large', 'Large']\n",
      "no_param 3 : ['Large', 'Large', 'Large', 'Large', 'Large', 'Large', 'Large', 'Large', 'Large', 'Large']\n",
      "no_param 4 : ['Large', 'Large', 'Large', 'Large', 'Large', 'Large', 'Large', 'Large', 'Large', 'Large']\n",
      "no_param 5 : ['Large', 'Large', 'Large', 'Large', 'Large', 'Large', 'Large', 'Large', 'Large', 'Large']\n",
      "no_param 6 : ['Large', 'Large', 'Large', 'Large', 'Large', 'Large', 'Large', 'Large', 'Large', 'Large']\n",
      "no_param 7 : ['Large', 'Large', 'Large', 'Large', 'Large', 'Large', 'Large', 'Large', 'Large', 'Large']\n",
      "no_param 8 : ['Large', 'Large', 'Large', 'Large', 'Large', 'Large', 'Large', 'Large', 'Large', 'Large']\n",
      "no_param 9 : ['Large', 'Large', 'Large', 'Large', 'Large', 'Large', 'Large', 'Large', 'Large', 'Large']\n",
      "no_param 10 : ['Small', 'Small', 'Small', 'Small', 'Small', 'Small', 'Small', 'Small', 'Small', 'Small']\n",
      "no_param 11 : ['Large', 'Large', 'Large', 'Large', 'Large', 'Large', 'Large', 'Large', 'Large', 'Large']\n",
      "no_param 12 : ['Large', 'Large', 'Large', 'Large', 'Large', 'Large', 'Large', 'Large', 'Large', 'Large']\n",
      "no_param 13 : ['Large', 'Large', 'Large', 'Large', 'Large', 'Large', 'Large', 'Large', 'Large', 'Large']\n",
      "no_param 14 : ['Large', 'Large', 'Large', 'Large', 'Large', 'Large', 'Large', 'Large', 'Large', 'Large']\n",
      "no_param 15 : ['Large', 'Large', 'Large', 'Large', 'Large', 'Large', 'Large', 'Large', 'Large', 'Large']\n",
      "no_param 16 : ['Large', 'Large', 'Large', 'Large', 'Large', 'Large', 'Large', 'Large', 'Large', 'Large']\n",
      "no_param 17 : ['Large', 'Large', 'Large', 'Large', 'Large', 'Large', 'Large', 'Large', 'Large', 'Large']\n",
      "no_param 18 : ['Small', 'Small', 'Small', 'Small', 'Small', 'Small', 'Small', 'Small', 'Small', 'Small']\n"
     ]
    }
   ],
   "source": [
    "#observe orbit lengths (columns are different initial conditions)\n",
    "endpts = [0,10,20,30,40,50,60,70,80,90,100,110,120,130,140,150,160,170,180,190]\n",
    "for i in range(len(endpts)-1):\n",
    "    print('no_param', i, ':', no_sizes[endpts[i]:endpts[i+1]])"
   ]
  },
  {
   "cell_type": "code",
   "execution_count": 8,
   "metadata": {},
   "outputs": [],
   "source": [
    "large, small = separate(no_params, '111')"
   ]
  },
  {
   "cell_type": "code",
   "execution_count": 9,
   "metadata": {},
   "outputs": [
    {
     "name": "stdout",
     "output_type": "stream",
     "text": [
      "True\n",
      "True\n"
     ]
    }
   ],
   "source": [
    "#test\n",
    "print(small[0] == no_params[10])\n",
    "print(small[1] == no_params[18])\n",
    "#cool, it works (finally)"
   ]
  },
  {
   "cell_type": "code",
   "execution_count": 10,
   "metadata": {},
   "outputs": [],
   "source": [
    "line_list = generate_all_lines(small, large, 50)"
   ]
  },
  {
   "cell_type": "code",
   "execution_count": 11,
   "metadata": {},
   "outputs": [
    {
     "name": "stdout",
     "output_type": "stream",
     "text": [
      "34\n",
      "34\n",
      "50\n"
     ]
    }
   ],
   "source": [
    "#check dimensions\n",
    "print(len(line_list))\n",
    "print(len(small)*len(large))\n",
    "print(len(line_list[0]))\n",
    "#cool"
   ]
  },
  {
   "cell_type": "code",
   "execution_count": 12,
   "metadata": {},
   "outputs": [
    {
     "name": "stdout",
     "output_type": "stream",
     "text": [
      "CPU times: user 10min 24s, sys: 4.31 s, total: 10min 28s\n",
      "Wall time: 11min 2s\n"
     ]
    },
    {
     "data": {
      "text/plain": [
       "[False,\n",
       " False,\n",
       " False,\n",
       " False,\n",
       " False,\n",
       " False,\n",
       " False,\n",
       " False,\n",
       " False,\n",
       " False,\n",
       " False,\n",
       " False,\n",
       " False,\n",
       " False,\n",
       " False,\n",
       " False,\n",
       " False,\n",
       " False,\n",
       " False,\n",
       " False,\n",
       " False,\n",
       " False,\n",
       " False,\n",
       " False,\n",
       " False,\n",
       " False,\n",
       " False,\n",
       " False,\n",
       " False,\n",
       " False,\n",
       " False,\n",
       " False,\n",
       " False,\n",
       " False]"
      ]
     },
     "execution_count": 12,
     "metadata": {},
     "output_type": "execute_result"
    }
   ],
   "source": [
    "%%time\n",
    "check_list(line_list)"
   ]
  },
  {
   "cell_type": "markdown",
   "metadata": {},
   "source": [
    "So for this particular parameter node and the 10 parameters I sampled from within it, no parameter lines constructed between 'Small' and 'Large' orbit parameters yield different results when run through forward or backward, i.e. no evidence of birythmicity. Note: time to run for just 19 parameters (34 small/long combinations) is about 11 minutes. Is there a more efficient way to do this check?"
   ]
  },
  {
   "cell_type": "code",
   "execution_count": 14,
   "metadata": {},
   "outputs": [
    {
     "data": {
      "image/png": "[encoded data removed]",
      "text/plain": [
       "<Figure size 864x360 with 2 Axes>"
      ]
     },
     "metadata": {
      "needs_background": "light"
     },
     "output_type": "display_data"
    }
   ],
   "source": [
    "#plotting framework\n",
    "param = no_params[0]\n",
    "sol0 = scipy.integrate.solve_ivp(lambda t,y: fun(t,y,param,n,decays), [0,tf], y0 = no_ICs[0], method = 'BDF')\n",
    "sol1 = scipy.integrate.solve_ivp(lambda t,y: fun(t,y,param,n,decays), [0,tf], y0 = no_ICs[1], method = 'BDF')\n",
    "\n",
    "fig,(ax1,ax2) = plot_projections(sol0, param)\n",
    "plot_projections(sol1, param, axs = (ax1, ax2))\n",
    "# ax1.set_xlim(1,2.75)\n",
    "# # ax1.set_ylim(0.3,0.8)\n",
    "# ax2.set_xlim(0.6,1)\n",
    "# ax2.set_ylim(0,8.5)"
   ]
  },
  {
   "cell_type": "markdown",
   "metadata": {},
   "source": [
    "### PCA Stuff"
   ]
  },
  {
   "cell_type": "code",
   "execution_count": 20,
   "metadata": {},
   "outputs": [],
   "source": [
    "#0 is small, 1 is large\n",
    "no_param_colors = [1, 1, 1, 1, 1, 1, 1, 1, 1, 1, 0, 1, 1, 1, 1, 1, 1, 1, 0]\n",
    "\n",
    "nodf1 = pd.DataFrame.from_dict(noparams1, orient = 'index')\n",
    "nodf1 = nodf1.T\n",
    "nodf2 = pd.DataFrame.from_dict(noparams2, orient = 'index')\n",
    "nodf2 = nodf2.T\n",
    "nodf3 = pd.DataFrame.from_dict(noparams3, orient = 'index')\n",
    "nodf3 = nodf3.T\n",
    "nodf4 = pd.DataFrame.from_dict(noparams4, orient = 'index')\n",
    "nodf4 = nodf4.T\n",
    "nodf5 = pd.DataFrame.from_dict(noparams5, orient = 'index')\n",
    "nodf5 = nodf5.T\n",
    "nodf6 = pd.DataFrame.from_dict(noparams6, orient = 'index')\n",
    "nodf6 = nodf6.T\n",
    "nodf7 = pd.DataFrame.from_dict(noparams7, orient = 'index')\n",
    "nodf7 = nodf7.T\n",
    "nodf8 = pd.DataFrame.from_dict(noparams8, orient = 'index')\n",
    "nodf8 = nodf8.T\n",
    "nodf9 = pd.DataFrame.from_dict(noparams9, orient = 'index')\n",
    "nodf9 = nodf9.T\n",
    "nodf10 = pd.DataFrame.from_dict(noparams10, orient = 'index')\n",
    "nodf10 = nodf10.T\n",
    "nodf11 = pd.DataFrame.from_dict(noparams11, orient = 'index')\n",
    "nodf11 = nodf11.T\n",
    "nodf12 = pd.DataFrame.from_dict(noparams12, orient = 'index')\n",
    "nodf12 = nodf12.T\n",
    "nodf13 = pd.DataFrame.from_dict(noparams13, orient = 'index')\n",
    "nodf13 = nodf13.T\n",
    "nodf14 = pd.DataFrame.from_dict(noparams14, orient = 'index')\n",
    "nodf14 = nodf14.T\n",
    "nodf15 = pd.DataFrame.from_dict(noparams15, orient = 'index')\n",
    "nodf15 = nodf15.T\n",
    "nodf16 = pd.DataFrame.from_dict(noparams16, orient = 'index')\n",
    "nodf16 = nodf16.T\n",
    "nodf17 = pd.DataFrame.from_dict(noparams17, orient = 'index')\n",
    "nodf17 = nodf17.T\n",
    "nodf18 = pd.DataFrame.from_dict(noparams18, orient = 'index')\n",
    "nodf18 = nodf18.T\n",
    "nodf19 = pd.DataFrame.from_dict(noparams19, orient = 'index')\n",
    "nodf19 = nodf19.T\n",
    "\n",
    "no_param_data = pd.concat([nodf1,nodf2,nodf3,nodf4,nodf5,nodf6,nodf7,nodf8,nodf9,nodf10,nodf11,nodf12,nodf13,nodf14,\n",
    "                           nodf15,nodf16,nodf17,nodf18,nodf19])\n",
    "\n",
    "no_param_data['OrbitLength'] = no_param_colors"
   ]
  },
  {
   "cell_type": "code",
   "execution_count": 21,
   "metadata": {},
   "outputs": [
    {
     "data": {
      "image/png": "[encoded data removed]",
      "text/plain": [
       "<Figure size 432x288 with 1 Axes>"
      ]
     },
     "metadata": {
      "needs_background": "light"
     },
     "output_type": "display_data"
    }
   ],
   "source": [
    "pca = PCA(n_components = 2)\n",
    "pca.fit(no_param_data.iloc[:,0:17])\n",
    "no_pca = pca.transform(no_param_data.iloc[:,0:17])\n",
    "\n",
    "labels = no_param_data.loc[:,'OrbitLength']\n",
    "label_colors = {0:'maroon',1:'blue'}\n",
    "cvec = [label_colors[label] for label in labels]\n",
    "plt.scatter(no_pca[:,0],no_pca[:,1], c = cvec)\n",
    "plt.scatter(25,25,c = 'blue',label = 'Large')#point at (25,25) just for labeling purposes\n",
    "plt.scatter(25,25,c = 'maroon', label = 'Small')\n",
    "plt.xlim(-5,5)\n",
    "plt.ylim(-5,5)\n",
    "plt.title('PCA of orbit size, No Black Wall')\n",
    "plt.legend(loc = 'best')\n",
    "# plt.savefig('pca_all_attributes.png')\n",
    "plt.show()\n",
    "plt.close()"
   ]
  },
  {
   "cell_type": "code",
   "execution_count": null,
   "metadata": {},
   "outputs": [],
   "source": []
  }
 ],
 "metadata": {
  "kernelspec": {
   "display_name": "Python 3",
   "language": "python",
   "name": "python3"
  },
  "language_info": {
   "codemirror_mode": {
    "name": "ipython",
    "version": 3
   },
   "file_extension": ".py",
   "mimetype": "text/x-python",
   "name": "python",
   "nbconvert_exporter": "python",
   "pygments_lexer": "ipython3",
   "version": "3.7.6"
  }
 },
 "nbformat": 4,
 "nbformat_minor": 4
}
