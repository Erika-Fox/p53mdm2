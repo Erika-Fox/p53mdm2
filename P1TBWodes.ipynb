{
 "cells": [
  {
   "cell_type": "code",
   "execution_count": 1,
   "metadata": {},
   "outputs": [],
   "source": [
    "from periodic_orbits import is_periodic, is_equilibrium, stg_coordinate, get_periodic_domains\n",
    "from ode_functions import theta_from_param,ic_function, fun, convert_to_dict, get_parameter_node, get_ic_domain, plot_projections, plot_time_series, plot_phase_projection\n",
    "from ipynb.fs.full.ode_functions import get_param_distance, param_line, lower_double_id, upper_double_id, separate, generate_all_lines, check_list\n",
    "from periodic_orbits2 import check_sequence\n",
    "import scipy\n",
    "import numpy as np\n",
    "import matplotlib.pyplot as plt\n",
    "import pandas as pd\n",
    "import warnings\n",
    "from sklearn.decomposition import PCA"
   ]
  },
  {
   "cell_type": "code",
   "execution_count": 2,
   "metadata": {},
   "outputs": [],
   "source": [
    "#decay rates\n",
    "decays = {'d_p' : 1, 'd_mc' : 1, 'd_mn' : 1}\n",
    "\n",
    "#hill coefficient\n",
    "n = 90\n",
    "\n",
    "#ode solver parameters\n",
    "t0 = 0\n",
    "tf = 100"
   ]
  },
  {
   "cell_type": "code",
   "execution_count": 3,
   "metadata": {},
   "outputs": [],
   "source": [
    "#Import parameters\n",
    "\n",
    "top1 = pd.read_csv(\"Parameter_datasets/P1TBWnode1.csv\", header = None)\n",
    "topparams1 = convert_to_dict(top1)\n",
    "\n",
    "top2 = pd.read_csv(\"Parameter_datasets/P1TBWnode2.csv\", header = None)\n",
    "topparams2 = convert_to_dict(top2)\n",
    "\n",
    "top3 = pd.read_csv(\"Parameter_datasets/P1TBWnode3.csv\", header = None)\n",
    "topparams3 = convert_to_dict(top3)\n",
    "\n",
    "top4 = pd.read_csv(\"Parameter_datasets/P1TBWnode4.csv\", header = None)\n",
    "topparams4 = convert_to_dict(top4)\n",
    "\n",
    "top5 = pd.read_csv(\"Parameter_datasets/P1TBWnode5.csv\", header = None)\n",
    "topparams5 = convert_to_dict(top5)\n",
    "\n",
    "top6 = pd.read_csv(\"Parameter_datasets/P1TBWnode6.csv\", header = None)\n",
    "topparams6 = convert_to_dict(top6)\n",
    "\n",
    "top7 = pd.read_csv(\"Parameter_datasets/P1TBWnode7.csv\", header = None)\n",
    "topparams7 = convert_to_dict(top7)\n",
    "\n",
    "top8 = pd.read_csv(\"Parameter_datasets/P1TBWnode8.csv\", header = None)\n",
    "topparams8 = convert_to_dict(top8)\n",
    "\n",
    "top9 = pd.read_csv(\"Parameter_datasets/P1TBWnode9.csv\", header = None)\n",
    "topparams9 = convert_to_dict(top9)\n",
    "\n",
    "top10 = pd.read_csv(\"Parameter_datasets/P1TBWnode10.csv\", header = None)\n",
    "topparams10 = convert_to_dict(top10)\n",
    "\n",
    "top_params = [topparams1, topparams2, topparams3, topparams4, topparams6, topparams7, topparams8,\n",
    "              topparams9, topparams10]"
   ]
  },
  {
   "cell_type": "code",
   "execution_count": 4,
   "metadata": {},
   "outputs": [],
   "source": [
    "top_ICs = []\n",
    "for i in range(10):\n",
    "    top_ICs.append(ic_function(\"011\", top_params[0]))#011 to avoid overshoot, and it is division point"
   ]
  },
  {
   "cell_type": "code",
   "execution_count": 5,
   "metadata": {},
   "outputs": [
    {
     "name": "stderr",
     "output_type": "stream",
     "text": [
      "/Users/Erika/Documents/Math/Research/periodic_orbits.py:96: UserWarning: get_periodic_domains looked at all time points but did not verify a periodic sequence to desired verification level of num_periods_to_verify = 2. The trajectory may not be periodic.\n",
      "  warnings.warn('get_periodic_domains looked at all time points but did not verify a periodic sequence to desired verification level of num_periods_to_verify = {}. The trajectory may not be periodic.'.format(num_periods_to_verify))\n"
     ]
    }
   ],
   "source": [
    "top_lengths = []#store orbit lengths, each set of 10 lengths corresponds to different ICs within same parameter\n",
    "top_sizes = []\n",
    "for i in range(len(top_params)):\n",
    "    if i == 4:\n",
    "        pass\n",
    "    else:\n",
    "        param = top_params[i]\n",
    "        theta = theta_from_param(param)\n",
    "        for IC in top_ICs:\n",
    "            sol = scipy.integrate.solve_ivp(lambda t,y: fun(t,y,param,90,decays), [0,100], y0 = IC, method = 'BDF')\n",
    "            output = get_periodic_domains(sol.y,theta,num_periods_to_verify = 2)\n",
    "            top_lengths.append(len(output))\n",
    "            top_sizes.append(upper_double_id(output))"
   ]
  },
  {
   "cell_type": "code",
   "execution_count": 6,
   "metadata": {},
   "outputs": [
    {
     "name": "stdout",
     "output_type": "stream",
     "text": [
      "top_param 0 : [6, 6, 6, 6, 6, 6, 6, 6, 6, 6]\n",
      "top_param 1 : [8, 8, 8, 8, 8, 8, 8, 8, 8, 8]\n",
      "top_param 2 : [8, 7, 7, 7, 8, 8, 7, 7, 8, 7]\n",
      "top_param 3 : [8, 8, 8, 8, 8, 8, 8, 8, 8, 8]\n",
      "top_param 5 : [6, 6, 6, 6, 6, 6, 6, 6, 6, 6]\n",
      "top_param 6 : [6, 6, 6, 6, 6, 6, 6, 6, 6, 6]\n",
      "top_param 7 : [6, 6, 6, 6, 6, 6, 6, 6, 6, 6]\n",
      "top_param 8 : [8, 8, 8, 8, 8, 8, 8, 8, 8, 8]\n",
      "top_param 9 : []\n"
     ]
    }
   ],
   "source": [
    "#### observe orbit lengths (columns are different initial conditions)\n",
    "endpts = [0,10,20,30,40,50,60,70,80,90]\n",
    "for i in range(len(endpts)-1):\n",
    "    if i < 4:\n",
    "        print('top_param', i, ':', top_lengths[endpts[i]:endpts[i+1]])\n",
    "    else:\n",
    "        print('top_param', i+1, ':', top_lengths[endpts[i]:endpts[i+1]])"
   ]
  },
  {
   "cell_type": "code",
   "execution_count": 7,
   "metadata": {},
   "outputs": [
    {
     "name": "stdout",
     "output_type": "stream",
     "text": [
      "top_param 0 : ['Small', 'Small', 'Small', 'Small', 'Small', 'Small', 'Small', 'Small', 'Small', 'Small']\n",
      "top_param 1 : ['Large', 'Large', 'Large', 'Large', 'Large', 'Large', 'Large', 'Large', 'Large', 'Large']\n",
      "top_param 2 : ['Large', 'Large', 'Large', 'Large', 'Large', 'Large', 'Large', 'Large', 'Large', 'Large']\n",
      "top_param 3 : ['Large', 'Large', 'Large', 'Large', 'Large', 'Large', 'Large', 'Large', 'Large', 'Large']\n",
      "top_param 5 : ['Small', 'Small', 'Small', 'Small', 'Small', 'Small', 'Small', 'Small', 'Small', 'Small']\n",
      "top_param 6 : ['Small', 'Small', 'Small', 'Small', 'Small', 'Small', 'Small', 'Small', 'Small', 'Small']\n",
      "top_param 7 : ['Small', 'Small', 'Small', 'Small', 'Small', 'Small', 'Small', 'Small', 'Small', 'Small']\n",
      "top_param 8 : ['Large', 'Large', 'Large', 'Large', 'Large', 'Large', 'Large', 'Large', 'Large', 'Large']\n",
      "top_param 9 : []\n"
     ]
    }
   ],
   "source": [
    "#observe orbit lengths (columns are different initial conditions)\n",
    "endpts = [0,10,20,30,40,50,60,70,80,90]\n",
    "for i in range(len(endpts)-1):\n",
    "    if i < 4:\n",
    "        print('top_param', i, ':', top_sizes[endpts[i]:endpts[i+1]])\n",
    "    else:\n",
    "        print('top_param', i+1, ':', top_sizes[endpts[i]:endpts[i+1]])"
   ]
  },
  {
   "cell_type": "code",
   "execution_count": 8,
   "metadata": {},
   "outputs": [],
   "source": [
    "#removed param 5 (top_params[4]) for now\n",
    "large, small = separate(top_params, '111')"
   ]
  },
  {
   "cell_type": "code",
   "execution_count": 9,
   "metadata": {},
   "outputs": [],
   "source": [
    "line_list = generate_all_lines(small, large, 50)"
   ]
  },
  {
   "cell_type": "code",
   "execution_count": 10,
   "metadata": {},
   "outputs": [
    {
     "name": "stdout",
     "output_type": "stream",
     "text": [
      "CPU times: user 4min 9s, sys: 3.09 s, total: 4min 12s\n",
      "Wall time: 4min 49s\n"
     ]
    },
    {
     "data": {
      "text/plain": [
       "[True,\n",
       " True,\n",
       " False,\n",
       " True,\n",
       " True,\n",
       " False,\n",
       " True,\n",
       " False,\n",
       " False,\n",
       " False,\n",
       " False,\n",
       " True,\n",
       " False,\n",
       " False,\n",
       " False,\n",
       " True,\n",
       " True,\n",
       " True,\n",
       " True,\n",
       " True]"
      ]
     },
     "execution_count": 10,
     "metadata": {},
     "output_type": "execute_result"
    }
   ],
   "source": [
    "%%time\n",
    "check_list(line_list)#20 pairs to check"
   ]
  },
  {
   "cell_type": "code",
   "execution_count": 14,
   "metadata": {},
   "outputs": [],
   "source": [
    "line = line_list[0]\n",
    "sizes = []\n",
    "#for the sake of easy ICs for first run\n",
    "param = line[0]\n",
    "sol = scipy.integrate.solve_ivp(fun, [0, tf], y0 = [param['thetaMnMc'], param['thetaPMn'], param['thetaMcP']], args = [param, n, decays], method = 'BDF')\n",
    "#create sizes, list of lenghts in forward direction\n",
    "for param in line:\n",
    "    theta = theta_from_param(param)\n",
    "    IC = [sol.y[0,-1],sol.y[1,-1],sol.y[2,-1]]\n",
    "    sol = scipy.integrate.solve_ivp(fun, [0, tf], y0 = IC, args = [param, n, decays], method = 'BDF')\n",
    "    if param == line[29]:\n",
    "        sol1 = sol\n",
    "    if param == line[33]:\n",
    "        sol2 = sol\n",
    "    if param == line[34]:\n",
    "        sol3 = sol\n",
    "    if param == line[36]:\n",
    "        sol4 = sol\n",
    "    if param == line[37]:\n",
    "        sol5 = sol\n",
    "    if param == line[38]:\n",
    "        sol6 = sol\n",
    "    if param == line[39]:\n",
    "        sol7 = sol\n",
    "    output = get_periodic_domains(sol.y,theta,num_periods_to_verify = 2)\n",
    "    size = upper_double_id(output)\n",
    "    sizes.append(size)"
   ]
  },
  {
   "cell_type": "code",
   "execution_count": 17,
   "metadata": {},
   "outputs": [],
   "source": [
    "rev_line = line.copy()\n",
    "rev_line.reverse()\n",
    "rev_sizes = []\n",
    "#for the sake of easy ICs for first run\n",
    "param = rev_line[0]\n",
    "sol = scipy.integrate.solve_ivp(fun, [0, tf], y0 = [param['thetaMnMc'], param['thetaPMn'], param['thetaMcP']], args = [param, n, decays], method = 'BDF')\n",
    "for param in rev_line:\n",
    "    theta = theta_from_param(param)\n",
    "    rev_IC = [sol.y[0,-1],sol.y[1,-1],sol.y[2,-1]]\n",
    "    sol = scipy.integrate.solve_ivp(fun, [0, tf], y0 = rev_IC, args = [param, n, decays], method = 'BDF')\n",
    "    if param == line[29]:\n",
    "        sol1b = sol\n",
    "    if param == line[33]:\n",
    "        sol2b = sol\n",
    "    if param == line[34]:\n",
    "        sol3b = sol\n",
    "    if param == line[36]:\n",
    "        sol4b = sol\n",
    "    if param == line[37]:\n",
    "        sol5b = sol\n",
    "    if param == line[38]:\n",
    "        sol6b = sol\n",
    "    if param == line[39]:\n",
    "        sol7b = sol\n",
    "    output = get_periodic_domains(sol.y,theta,num_periods_to_verify = 2)\n",
    "    size = upper_double_id(output)\n",
    "    rev_sizes.append(size)\n",
    "rev_rev_sizes = rev_sizes.copy()\n",
    "rev_rev_sizes.reverse()"
   ]
  },
  {
   "cell_type": "code",
   "execution_count": 18,
   "metadata": {},
   "outputs": [],
   "source": [
    "output1 = get_periodic_domains(sol1.y, theta_from_param(line[29]), num_periods_to_verify = 2)\n",
    "output2 = get_periodic_domains(sol1b.y, theta_from_param(line[29]), num_periods_to_verify = 2)"
   ]
  },
  {
   "cell_type": "code",
   "execution_count": 19,
   "metadata": {},
   "outputs": [
    {
     "data": {
      "text/plain": [
       "'Large'"
      ]
     },
     "execution_count": 19,
     "metadata": {},
     "output_type": "execute_result"
    }
   ],
   "source": [
    "upper_double_id(output1)"
   ]
  },
  {
   "cell_type": "code",
   "execution_count": 20,
   "metadata": {},
   "outputs": [
    {
     "data": {
      "text/plain": [
       "'Small'"
      ]
     },
     "execution_count": 20,
     "metadata": {},
     "output_type": "execute_result"
    }
   ],
   "source": [
    "upper_double_id(output2)"
   ]
  },
  {
   "cell_type": "code",
   "execution_count": null,
   "metadata": {},
   "outputs": [],
   "source": []
  },
  {
   "cell_type": "code",
   "execution_count": 13,
   "metadata": {},
   "outputs": [
    {
     "name": "stdout",
     "output_type": "stream",
     "text": [
      "0 Large Large\n",
      "1 Large Large\n",
      "2 Large Large\n",
      "3 Large Large\n",
      "4 Large Large\n",
      "5 Large Large\n",
      "6 Large Large\n",
      "7 Large Large\n",
      "8 Large Large\n",
      "9 Large Large\n",
      "10 Large Large\n",
      "11 Large Large\n",
      "12 Large Large\n",
      "13 Large Large\n",
      "14 Large Large\n",
      "15 Large Large\n",
      "16 Large Large\n",
      "17 Large Large\n",
      "18 Large Large\n",
      "19 Large Large\n",
      "20 Large Large\n",
      "21 Large Large\n",
      "22 Large Large\n",
      "23 Large Large\n",
      "24 Large Large\n",
      "25 Large Large\n",
      "26 Large Large\n",
      "27 Large Large\n",
      "28 Large Large\n",
      "29 Large Small\n",
      "30 Large Large\n",
      "31 Large Large\n",
      "32 Large Large\n",
      "33 Large Small\n",
      "34 Large Small\n",
      "35 Small Small\n",
      "36 Small Large\n",
      "37 Small Large\n",
      "38 Small Large\n",
      "39 Small Large\n",
      "40 Small Small\n",
      "41 Small Small\n",
      "42 Small Small\n",
      "43 Small Small\n",
      "44 Small Small\n",
      "45 Small Small\n",
      "46 Small Small\n",
      "47 Small Small\n",
      "48 Small Small\n",
      "49 Small Small\n"
     ]
    }
   ],
   "source": [
    "for i in range(len(sizes)):\n",
    "    print(i, sizes[i], rev_rev_sizes[i])"
   ]
  },
  {
   "cell_type": "code",
   "execution_count": 23,
   "metadata": {},
   "outputs": [
    {
     "data": {
      "image/png": "[encoded data removed]",
      "text/plain": [
       "<Figure size 864x360 with 2 Axes>"
      ]
     },
     "metadata": {
      "needs_background": "light"
     },
     "output_type": "display_data"
    }
   ],
   "source": [
    "#plotting framework\n",
    "# param = top_params[0]\n",
    "# sol0 = scipy.integrate.solve_ivp(lambda t,y: fun(t,y,param,n,decays), [0,tf], y0 = top_ICs[0], method = 'BDF')\n",
    "# sol1 = scipy.integrate.solve_ivp(lambda t,y: fun(t,y,param,n,decays), [0,tf], y0 = top_ICs[1], method = 'BDF')\n",
    "\n",
    "param = line[29]\n",
    "fig,(ax1,ax2) = plot_projections(sol1, param)\n",
    "plot_projections(sol1b, param, axs = (ax1, ax2))\n",
    "# ax1.set_xlim(1,2.75)\n",
    "# # ax1.set_ylim(0.3,0.8)\n",
    "# ax2.set_xlim(0.6,1)\n",
    "# ax2.set_ylim(0,5)"
   ]
  },
  {
   "cell_type": "markdown",
   "metadata": {},
   "source": [
    "### PCA Stuff"
   ]
  },
  {
   "cell_type": "code",
   "execution_count": 21,
   "metadata": {},
   "outputs": [],
   "source": [
    "#0 is small, 1 is large\n",
    "top_param_colors = [0,1,1,1,1,0,0,0,1]\n",
    "\n",
    "topdf1 = pd.DataFrame.from_dict(topparams1, orient = 'index')\n",
    "topdf1 = topdf1.T\n",
    "topdf2 = pd.DataFrame.from_dict(topparams2, orient = 'index')\n",
    "topdf2 = topdf2.T\n",
    "topdf3 = pd.DataFrame.from_dict(topparams3, orient = 'index')\n",
    "topdf3 = topdf3.T\n",
    "topdf4 = pd.DataFrame.from_dict(topparams4, orient = 'index')\n",
    "topdf4 = topdf4.T\n",
    "topdf6 = pd.DataFrame.from_dict(topparams6, orient = 'index')\n",
    "topdf6 = topdf6.T\n",
    "topdf7 = pd.DataFrame.from_dict(topparams7, orient = 'index')\n",
    "topdf7 = topdf7.T\n",
    "topdf8 = pd.DataFrame.from_dict(topparams8, orient = 'index')\n",
    "topdf8 = topdf8.T\n",
    "topdf9 = pd.DataFrame.from_dict(topparams9, orient = 'index')\n",
    "topdf9 = topdf9.T\n",
    "topdf10 = pd.DataFrame.from_dict(topparams10, orient = 'index')\n",
    "topdf10 = topdf10.T\n",
    "\n",
    "top_param_data = pd.concat([topdf1,topdf2,topdf3,topdf4,topdf6,topdf7,topdf8,topdf9,topdf10])\n",
    "\n",
    "top_param_data['OrbitLength'] = top_param_colors"
   ]
  },
  {
   "cell_type": "code",
   "execution_count": 22,
   "metadata": {},
   "outputs": [
    {
     "data": {
      "image/png": "[encoded data removed]",
      "text/plain": [
       "<Figure size 432x288 with 1 Axes>"
      ]
     },
     "metadata": {
      "needs_background": "light"
     },
     "output_type": "display_data"
    }
   ],
   "source": [
    "pca = PCA(n_components = 2)\n",
    "pca.fit(top_param_data.iloc[:,0:17])\n",
    "top_pca = pca.transform(top_param_data.iloc[:,0:17])\n",
    "\n",
    "labels = top_param_data.loc[:,'OrbitLength']\n",
    "label_colors = {0:'maroon',1:'blue'}\n",
    "cvec = [label_colors[label] for label in labels]\n",
    "plt.scatter(top_pca[:,0],top_pca[:,1], c = cvec)\n",
    "plt.scatter(25,25,c = 'blue',label = 'Large')#point at (25,25) just for labeling purposes\n",
    "plt.scatter(25,25,c = 'maroon', label = 'Small')\n",
    "plt.xlim(-5,5)\n",
    "plt.ylim(-5,5)\n",
    "plt.title('PCA of orbit size, Top Black Wall')\n",
    "plt.legend(loc = 'best')\n",
    "# plt.savefig('pca_all_attributes.png')\n",
    "plt.show()\n",
    "plt.close()"
   ]
  },
  {
   "cell_type": "code",
   "execution_count": null,
   "metadata": {},
   "outputs": [],
   "source": []
  }
 ],
 "metadata": {
  "kernelspec": {
   "display_name": "Python 3",
   "language": "python",
   "name": "python3"
  },
  "language_info": {
   "codemirror_mode": {
    "name": "ipython",
    "version": 3
   },
   "file_extension": ".py",
   "mimetype": "text/x-python",
   "name": "python",
   "nbconvert_exporter": "python",
   "pygments_lexer": "ipython3",
   "version": "3.7.6"
  }
 },
 "nbformat": 4,
 "nbformat_minor": 4
}
