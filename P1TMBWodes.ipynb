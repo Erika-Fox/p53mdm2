{
 "cells": [
  {
   "cell_type": "code",
   "execution_count": 1,
   "metadata": {},
   "outputs": [],
   "source": [
    "from periodic_orbits import is_periodic, is_equilibrium, stg_coordinate, get_periodic_domains\n",
    "from ode_functions import theta_from_param,ic_function, fun, convert_to_dict, get_parameter_node, get_ic_domain, plot_projections, plot_time_series, plot_phase_projection\n",
    "# from ipynb.fs.full.ode_functions import get_param_distance, param_line, lower_double_id, upper_double_id, separate, generate_all_lines, check_list\n",
    "from ipynb.fs.full.ode_functions import *\n",
    "from periodic_orbits2 import check_sequence\n",
    "import scipy\n",
    "import numpy as np\n",
    "import matplotlib.pyplot as plt\n",
    "import pandas as pd\n",
    "import warnings\n",
    "from sklearn.decomposition import PCA"
   ]
  },
  {
   "cell_type": "code",
   "execution_count": 2,
   "metadata": {},
   "outputs": [],
   "source": [
    "#decay rates\n",
    "decays = {'d_p' : 1, 'd_mc' : 1, 'd_mn' : 1}\n",
    "\n",
    "#hill coefficient\n",
    "n = 90\n",
    "\n",
    "#ode solver parameters\n",
    "t0 = 0\n",
    "tf = 100"
   ]
  },
  {
   "cell_type": "code",
   "execution_count": 3,
   "metadata": {},
   "outputs": [],
   "source": [
    "tm1 = pd.read_csv(\"Parameter_datasets/P1TMBWnode1.csv\", header = None)\n",
    "tmparams1 = convert_to_dict(tm1)\n",
    "\n",
    "tm2 = pd.read_csv(\"Parameter_datasets/P1TMBWnode2.csv\", header = None)\n",
    "tmparams2 = convert_to_dict(tm2)\n",
    "\n",
    "tm3 = pd.read_csv(\"Parameter_datasets/P1TMBWnode3.csv\", header = None)\n",
    "tmparams3 = convert_to_dict(tm3)\n",
    "\n",
    "tm4 = pd.read_csv(\"Parameter_datasets/P1TMBWnode4.csv\", header = None)\n",
    "tmparams4 = convert_to_dict(tm4)\n",
    "\n",
    "tm5 = pd.read_csv(\"Parameter_datasets/P1TMBWnode5.csv\", header = None)\n",
    "tmparams5 = convert_to_dict(tm5)\n",
    "\n",
    "tm6 = pd.read_csv(\"Parameter_datasets/P1TMBWnode6.csv\", header = None)\n",
    "tmparams6 = convert_to_dict(tm6)\n",
    "\n",
    "tm7 = pd.read_csv(\"Parameter_datasets/P1TMBWnode7.csv\", header = None)\n",
    "tmparams7 = convert_to_dict(tm7)\n",
    "\n",
    "tm8 = pd.read_csv(\"Parameter_datasets/P1TMBWnode8.csv\", header = None)\n",
    "tmparams8 = convert_to_dict(tm8)\n",
    "\n",
    "tm9 = pd.read_csv(\"Parameter_datasets/P1TMBWnode9.csv\", header = None)\n",
    "tmparams9 = convert_to_dict(tm9)\n",
    "\n",
    "tm10 = pd.read_csv(\"Parameter_datasets/P1TMBWnode10.csv\", header = None)\n",
    "tmparams10 = convert_to_dict(tm10)\n",
    "\n",
    "tm11 = pd.read_csv(\"Parameter_datasets/P1TMBWnode11.csv\", header = None)\n",
    "tmparams11 = convert_to_dict(tm11)\n",
    "\n",
    "tm12 = pd.read_csv(\"Parameter_datasets/P1TMBWnode12.csv\", header = None)\n",
    "tmparams12 = convert_to_dict(tm12)\n",
    "\n",
    "tm13 = pd.read_csv(\"Parameter_datasets/P1TMBWnode13.csv\", header = None)\n",
    "tmparams13 = convert_to_dict(tm13)\n",
    "\n",
    "tm14 = pd.read_csv(\"Parameter_datasets/P1TMBWnode14.csv\", header = None)\n",
    "tmparams14 = convert_to_dict(tm14)\n",
    "\n",
    "tm15 = pd.read_csv(\"Parameter_datasets/P1TMBWnode15.csv\", header = None)\n",
    "tmparams15 = convert_to_dict(tm15)\n",
    "\n",
    "tm16 = pd.read_csv(\"Parameter_datasets/P1TMBWnode16.csv\", header = None)\n",
    "tmparams16 = convert_to_dict(tm16)\n",
    "\n",
    "tm17 = pd.read_csv(\"Parameter_datasets/P1TMBWnode17.csv\", header = None)\n",
    "tmparams17 = convert_to_dict(tm17)\n",
    "\n",
    "tm18 = pd.read_csv(\"Parameter_datasets/P1TMBWnode18.csv\", header = None)\n",
    "tmparams18 = convert_to_dict(tm18)\n",
    "\n",
    "tm19 = pd.read_csv(\"Parameter_datasets/P1TMBWnode19.csv\", header = None)\n",
    "tmparams19 = convert_to_dict(tm19)\n",
    "\n",
    "tm20 = pd.read_csv(\"Parameter_datasets/P1TMBWnode20.csv\", header = None)\n",
    "tmparams20 = convert_to_dict(tm20)\n",
    "\n",
    "tm_params = [tmparams1, tmparams2, tmparams3, tmparams4, tmparams5, tmparams6, tmparams7, tmparams8, tmparams9,\n",
    "             tmparams10, tmparams11, tmparams12, tmparams13, tmparams14, tmparams15, tmparams16, tmparams17, \n",
    "             tmparams18, tmparams19, tmparams20]"
   ]
  },
  {
   "cell_type": "code",
   "execution_count": 4,
   "metadata": {},
   "outputs": [],
   "source": [
    "tm_ICs = []\n",
    "for i in range(10):\n",
    "    tm_ICs.append(ic_function(\"011\", tm_params[0]))#011 to avoid overshoot, and it is division point"
   ]
  },
  {
   "cell_type": "code",
   "execution_count": 44,
   "metadata": {},
   "outputs": [],
   "source": [
    "tm_ICs2 = []\n",
    "for i in range(10):\n",
    "    tm_ICs2.append(ic_function(\"110\", tm_params[0]))#110 to avoid overshoot, and it is division point"
   ]
  },
  {
   "cell_type": "markdown",
   "metadata": {},
   "source": [
    "Fails for tm_params[1,4,8,16] "
   ]
  },
  {
   "cell_type": "code",
   "execution_count": 45,
   "metadata": {
    "scrolled": true
   },
   "outputs": [
    {
     "name": "stderr",
     "output_type": "stream",
     "text": [
      "/Users/Erika/Documents/Math/Research/periodic_orbits.py:96: UserWarning: get_periodic_domains looked at all time points but did not verify a periodic sequence to desired verification level of num_periods_to_verify = 2. The trajectory may not be periodic.\n",
      "  warnings.warn('get_periodic_domains looked at all time points but did not verify a periodic sequence to desired verification level of num_periods_to_verify = {}. The trajectory may not be periodic.'.format(num_periods_to_verify))\n"
     ]
    }
   ],
   "source": [
    "tm_lengths = []#store orbit lengths, each set of 10 lengths corresponds to different ICs within same parameter\n",
    "tm_sizes = []\n",
    "for i in range(len(tm_params)):\n",
    "    if i == 1 or i == 4 or i == 8 or i == 16:\n",
    "        pass\n",
    "    else:\n",
    "        param = tm_params[i]\n",
    "        theta = theta_from_param(param)\n",
    "        for IC in tm_ICs2:\n",
    "            sol = scipy.integrate.solve_ivp(lambda t,y: fun(t,y,param,90,decays), [0,100], y0 = IC, method = 'BDF')\n",
    "            output = get_periodic_domains(sol.y,theta,num_periods_to_verify = 2)\n",
    "            tm_lengths.append(len(output))\n",
    "            tm_sizes.append(lower_double_id(output))"
   ]
  },
  {
   "cell_type": "markdown",
   "metadata": {},
   "source": [
    "Check (average) distances between working, not working nodes."
   ]
  },
  {
   "cell_type": "code",
   "execution_count": 22,
   "metadata": {
    "scrolled": true
   },
   "outputs": [
    {
     "name": "stdout",
     "output_type": "stream",
     "text": [
      "node 1 1.9649710746567608\n",
      "node 4 1.9136912448084\n",
      "node 8 1.9176619265014834\n",
      "node 16 2.0816564522378522\n",
      "total average 1.9694951745511242\n"
     ]
    }
   ],
   "source": [
    "working = [0,2,3,5,6,7,9,10,11,12,13,14,15,17,18,19]\n",
    "averages = []\n",
    "for param_num in [1,4,8,16]:\n",
    "    running_sum = 0\n",
    "    for i in working:\n",
    "        val = get_param_distance(tm_params[i],tm_params[param_num])\n",
    "        running_sum = running_sum + val\n",
    "    ave_val = running_sum/len(working)\n",
    "    averages.append(ave_val)\n",
    "    print('node', param_num, ave_val)\n",
    "total_ave = sum(averages)/len(averages)\n",
    "print('total average', total_ave)"
   ]
  },
  {
   "cell_type": "code",
   "execution_count": 24,
   "metadata": {},
   "outputs": [
    {
     "name": "stdout",
     "output_type": "stream",
     "text": [
      "node 0 2.009247404423732\n",
      "node 2 1.4484879639125325\n",
      "node 3 2.0554261904462177\n",
      "node 5 1.4715317403487946\n",
      "node 6 1.7773990804945714\n",
      "node 7 1.7945149048661917\n",
      "node 9 1.5033311657278328\n",
      "node 10 2.1990358865241806\n",
      "node 11 1.3974870520292297\n",
      "node 12 2.3151904057214523\n",
      "node 13 1.3929331982231692\n",
      "node 14 1.8259812285775971\n",
      "node 15 2.603590990673484\n",
      "node 17 1.4581476166578256\n",
      "node 18 1.5409929923836805\n",
      "node 19 1.7963488049030507\n",
      "total average 1.7868529141195966\n"
     ]
    }
   ],
   "source": [
    "averages = []\n",
    "for param_num in working:\n",
    "    running_sum = 0\n",
    "    for i in working:\n",
    "        if i == param_num:\n",
    "            pass\n",
    "        else:\n",
    "            val = get_param_distance(tm_params[i],tm_params[param_num])\n",
    "            running_sum = running_sum + val\n",
    "    ave_val = running_sum/len(working)\n",
    "    averages.append(ave_val)\n",
    "    print('node', param_num , ave_val)\n",
    "total_ave = sum(averages)/len(averages)\n",
    "print('total average', total_ave)"
   ]
  },
  {
   "cell_type": "markdown",
   "metadata": {},
   "source": [
    "### PCA to compare clustering b/w working and broken nodes"
   ]
  },
  {
   "cell_type": "code",
   "execution_count": 27,
   "metadata": {},
   "outputs": [
    {
     "data": {
      "image/png": "[encoded data removed]",
      "text/plain": [
       "<Figure size 432x288 with 1 Axes>"
      ]
     },
     "metadata": {
      "needs_background": "light"
     },
     "output_type": "display_data"
    }
   ],
   "source": [
    "tm_param_colors = [0,1,0,0,1,0,0,0,1,0,0,0,0,0,0,0,1,0,0,0]\n",
    "\n",
    "tmdf1 = pd.DataFrame.from_dict(tmparams1, orient = 'index')\n",
    "tmdf1 = tmdf1.T\n",
    "tmdf2 = pd.DataFrame.from_dict(tmparams2, orient = 'index')\n",
    "tmdf2 = tmdf2.T\n",
    "tmdf3 = pd.DataFrame.from_dict(tmparams3, orient = 'index')\n",
    "tmdf3 = tmdf3.T\n",
    "tmdf4 = pd.DataFrame.from_dict(tmparams4, orient = 'index')\n",
    "tmdf4 = tmdf4.T\n",
    "tmdf5 = pd.DataFrame.from_dict(tmparams5, orient = 'index')\n",
    "tmdf5 = tmdf5.T\n",
    "tmdf6 = pd.DataFrame.from_dict(tmparams6, orient = 'index')\n",
    "tmdf6 = tmdf6.T\n",
    "tmdf7 = pd.DataFrame.from_dict(tmparams7, orient = 'index')\n",
    "tmdf7 = tmdf7.T\n",
    "tmdf8 = pd.DataFrame.from_dict(tmparams8, orient = 'index')\n",
    "tmdf8 = tmdf8.T\n",
    "tmdf9 = pd.DataFrame.from_dict(tmparams9, orient = 'index')\n",
    "tmdf9 = tmdf9.T\n",
    "tmdf10 = pd.DataFrame.from_dict(tmparams10, orient = 'index')\n",
    "tmdf10 = tmdf10.T\n",
    "tmdf11 = pd.DataFrame.from_dict(tmparams11, orient = 'index')\n",
    "tmdf11 = tmdf11.T\n",
    "tmdf12 = pd.DataFrame.from_dict(tmparams12, orient = 'index')\n",
    "tmdf12 = tmdf12.T\n",
    "tmdf13 = pd.DataFrame.from_dict(tmparams13, orient = 'index')\n",
    "tmdf13 = tmdf13.T\n",
    "tmdf14 = pd.DataFrame.from_dict(tmparams14, orient = 'index')\n",
    "tmdf14 = tmdf14.T\n",
    "tmdf15 = pd.DataFrame.from_dict(tmparams15, orient = 'index')\n",
    "tmdf15 = tmdf15.T\n",
    "tmdf16 = pd.DataFrame.from_dict(tmparams16, orient = 'index')\n",
    "tmdf16 = tmdf16.T\n",
    "tmdf17 = pd.DataFrame.from_dict(tmparams17, orient = 'index')\n",
    "tmdf17 = tmdf17.T\n",
    "tmdf18 = pd.DataFrame.from_dict(tmparams18, orient = 'index')\n",
    "tmdf18 = tmdf18.T\n",
    "tmdf19 = pd.DataFrame.from_dict(tmparams19, orient = 'index')\n",
    "tmdf19 = tmdf19.T\n",
    "tmdf20 = pd.DataFrame.from_dict(tmparams20, orient = 'index')\n",
    "tmdf20 = tmdf20.T\n",
    "\n",
    "tm_param_data = pd.concat([tmdf1,tmdf2,tmdf3,tmdf4,tmdf5,tmdf6,tmdf7,tmdf8,tmdf9,tmdf10,\n",
    "                          tmdf11,tmdf12,tmdf13,tmdf14,tmdf15,tmdf16,tmdf17,tmdf18,tmdf19,tmdf20])\n",
    "\n",
    "tm_param_data['Working?'] = tm_param_colors\n",
    "#------------------------------------------\n",
    "pca = PCA(n_components = 2)\n",
    "pca.fit(tm_param_data.iloc[:,0:17])\n",
    "tm_pca = pca.transform(tm_param_data.iloc[:,0:17])\n",
    "\n",
    "labels = tm_param_data.loc[:,'Working?']\n",
    "label_colors = {0:'maroon',1:'blue'}\n",
    "cvec = [label_colors[label] for label in labels]\n",
    "plt.scatter(tm_pca[:,0],tm_pca[:,1], c = cvec)\n",
    "plt.scatter(25,25,c = 'blue',label = 'Broken')#point at (25,25) just for labeling purposes\n",
    "plt.scatter(25,25,c = 'maroon', label = 'Working')\n",
    "plt.xlim(-5,5)\n",
    "plt.ylim(-5,5)\n",
    "plt.title('PCA of parameters which work and break, TM Black Wall')\n",
    "plt.legend(loc = 'best')\n",
    "# plt.savefig('pca_all_attributes.png')\n",
    "plt.show()\n",
    "plt.close()"
   ]
  },
  {
   "cell_type": "markdown",
   "metadata": {},
   "source": [
    "No obvious pattern in PCA..."
   ]
  },
  {
   "cell_type": "markdown",
   "metadata": {},
   "source": [
    "For now, ignore broken nodes and continue orbit length analysis for working ones."
   ]
  },
  {
   "cell_type": "code",
   "execution_count": 46,
   "metadata": {},
   "outputs": [
    {
     "name": "stdout",
     "output_type": "stream",
     "text": [
      "top_param 0 : [8, 8, 8, 8, 8, 8, 8, 8, 8, 8]\n",
      "top_param 2 : [80, 10, 9, 10, 9, 9, 72, 10, 9, 9]\n",
      "top_param 3 : [56, 54, 150, 8, 54, 9, 9, 10, 10, 9]\n",
      "top_param 5 : [48, 8, 8, 8, 16, 9, 16, 32, 7, 9]\n",
      "top_param 6 : [8, 8, 8, 8, 108, 8, 8, 8, 8, 8]\n",
      "top_param 7 : [8, 8, 8, 7, 7, 7, 7, 8, 8, 7]\n",
      "top_param 9 : [8, 8, 7, 8, 70, 8, 8, 8, 70, 8]\n",
      "top_param 10 : [10, 10, 9, 18, 90, 10, 10, 9, 10, 18]\n",
      "top_param 11 : [8, 9, 18, 8, 9, 48, 48, 42, 8, 32]\n",
      "top_param 12 : [128, 9, 130, 8, 135, 8, 10, 8, 36, 8]\n",
      "top_param 13 : [9, 27, 9, 18, 17, 10, 36, 54, 36, 18]\n",
      "top_param 14 : [8, 8, 8, 8, 8, 27, 10, 10, 9, 60]\n",
      "top_param 15 : [96, 72, 9, 9, 9, 9, 9, 9, 88, 9]\n",
      "top_param 17 : [84, 8, 8, 8, 7, 7, 8, 8, 8, 70]\n",
      "top_param 18 : [9, 9, 18, 18, 10, 10, 9, 9, 9, 9]\n",
      "top_param 19 : [9, 8, 27, 8, 9, 9, 9, 9, 8, 9]\n"
     ]
    }
   ],
   "source": [
    "#### observe orbit lengths (columns are different initial conditions)\n",
    "endpts = [0,10,20,30,40,50,60,70,80,90,100,110,120,130,140,150,160]\n",
    "for i in range(len(endpts)-1):\n",
    "    if i < 1:\n",
    "        print('top_param', i, ':', tm_lengths[endpts[i]:endpts[i+1]])\n",
    "    elif i < 3:\n",
    "        print('top_param', i+1, ':', tm_lengths[endpts[i]:endpts[i+1]])\n",
    "    elif i < 6:\n",
    "        print('top_param', i+2, ':', tm_lengths[endpts[i]:endpts[i+1]])\n",
    "    elif i < 13:\n",
    "        print('top_param', i+3, ':', tm_lengths[endpts[i]:endpts[i+1]])\n",
    "    else:\n",
    "        print('top_param', i+4, ':', tm_lengths[endpts[i]:endpts[i+1]])"
   ]
  },
  {
   "cell_type": "code",
   "execution_count": 47,
   "metadata": {},
   "outputs": [
    {
     "name": "stdout",
     "output_type": "stream",
     "text": [
      "top_param 0 : ['Large', 'Large', 'Large', 'Large', 'Large', 'Large', 'Large', 'Large', 'Large', 'Large']\n",
      "top_param 2 : ['Large', 'Large', 'Large', 'Large', 'Large', 'Large', 'Large', 'Large', 'Large', 'Large']\n",
      "top_param 3 : ['Large', 'Large', 'Large', 'Large', 'Large', 'Large', 'Large', 'Large', 'Large', 'Large']\n",
      "top_param 5 : ['Large', 'Large', 'Large', 'Large', 'Large', 'Large', 'Large', 'Large', 'Large', 'Large']\n",
      "top_param 6 : ['Large', 'Large', 'Large', 'Large', 'Large', 'Large', 'Large', 'Large', 'Large', 'Large']\n",
      "top_param 7 : ['Large', 'Large', 'Large', 'Large', 'Large', 'Large', 'Large', 'Large', 'Large', 'Large']\n",
      "top_param 9 : ['Large', 'Large', 'Large', 'Large', 'Large', 'Large', 'Large', 'Large', 'Large', 'Large']\n",
      "top_param 10 : ['Large', 'Large', 'Large', 'Large', 'Large', 'Large', 'Large', 'Large', 'Large', 'Large']\n",
      "top_param 11 : ['Large', 'Large', 'Large', 'Large', 'Large', 'Large', 'Large', 'Large', 'Large', 'Large']\n",
      "top_param 12 : ['Large', 'Large', 'Large', 'Large', 'Large', 'Large', 'Large', 'Large', 'Large', 'Large']\n",
      "top_param 13 : ['Large', 'Large', 'Large', 'Large', 'Large', 'Large', 'Large', 'Large', 'Large', 'Large']\n",
      "top_param 14 : ['Large', 'Large', 'Large', 'Large', 'Large', 'Large', 'Large', 'Large', 'Large', 'Large']\n",
      "top_param 15 : ['Large', 'Large', 'Large', 'Large', 'Large', 'Large', 'Large', 'Large', 'Large', 'Large']\n",
      "top_param 17 : ['Large', 'Large', 'Large', 'Large', 'Large', 'Large', 'Large', 'Large', 'Large', 'Large']\n",
      "top_param 18 : ['Large', 'Large', 'Large', 'Large', 'Large', 'Large', 'Large', 'Large', 'Large', 'Large']\n",
      "top_param 19 : ['Large', 'Large', 'Large', 'Large', 'Large', 'Large', 'Large', 'Large', 'Large', 'Large']\n"
     ]
    }
   ],
   "source": [
    "#### observe orbit sizes (columns are different initial conditions)\n",
    "endpts = [0,10,20,30,40,50,60,70,80,90,100,110,120,130,140,150,160]\n",
    "for i in range(len(endpts)-1):\n",
    "    if i < 1:\n",
    "        print('top_param', i, ':', tm_sizes[endpts[i]:endpts[i+1]])\n",
    "    elif i < 3:\n",
    "        print('top_param', i+1, ':', tm_sizes[endpts[i]:endpts[i+1]])\n",
    "    elif i < 6:\n",
    "        print('top_param', i+2, ':', tm_sizes[endpts[i]:endpts[i+1]])\n",
    "    elif i < 13:\n",
    "        print('top_param', i+3, ':', tm_sizes[endpts[i]:endpts[i+1]])\n",
    "    else:\n",
    "        print('top_param', i+4, ':', tm_sizes[endpts[i]:endpts[i+1]])"
   ]
  },
  {
   "cell_type": "markdown",
   "metadata": {},
   "source": [
    "Not very interesting to pursue linear connections or PCA analysis here (do PCA to have for combined PCA, though)... Perhaps sample parameter node more densely (as with no BW case) and see if other lengths appear."
   ]
  },
  {
   "cell_type": "code",
   "execution_count": 41,
   "metadata": {},
   "outputs": [
    {
     "data": {
      "image/png": "[encoded data removed]",
      "text/plain": [
       "<Figure size 864x360 with 2 Axes>"
      ]
     },
     "metadata": {
      "needs_background": "light"
     },
     "output_type": "display_data"
    }
   ],
   "source": [
    "#plotting framework\n",
    "param = tm_params[0]\n",
    "sol0 = scipy.integrate.solve_ivp(lambda t,y: fun(t,y,param,n,decays), [0,tf], y0 = tm_ICs[0], method = 'BDF')\n",
    "sol1 = scipy.integrate.solve_ivp(lambda t,y: fun(t,y,param,n,decays), [0,tf], y0 = tm_ICs[1], method = 'BDF')\n",
    "\n",
    "fig,(ax1,ax2) = plot_projections(sol0, param)\n",
    "plot_projections(sol1, param, axs = (ax1, ax2))\n",
    "# ax1.set_xlim(1,2.75)\n",
    "# # ax1.set_ylim(0.3,0.8)\n",
    "# ax2.set_xlim(0.6,1)\n",
    "# ax2.set_ylim(0,8.5)"
   ]
  },
  {
   "cell_type": "markdown",
   "metadata": {},
   "source": [
    "### PCA"
   ]
  },
  {
   "cell_type": "code",
   "execution_count": 43,
   "metadata": {},
   "outputs": [
    {
     "data": {
      "image/png": "[encoded data removed]",
      "text/plain": [
       "<Figure size 432x288 with 1 Axes>"
      ]
     },
     "metadata": {
      "needs_background": "light"
     },
     "output_type": "display_data"
    }
   ],
   "source": [
    "tm_param_colors = [1, 1, 1, 1, 1, 1, 1, 1, 1, 1, 1, 1, 1, 1, 1, 1]\n",
    "\n",
    "tmdf1 = pd.DataFrame.from_dict(tmparams1, orient = 'index')\n",
    "tmdf1 = tmdf1.T\n",
    "# tmdf2 = pd.DataFrame.from_dict(tmparams2, orient = 'index')\n",
    "# tmdf2 = tmdf2.T\n",
    "tmdf3 = pd.DataFrame.from_dict(tmparams3, orient = 'index')\n",
    "tmdf3 = tmdf3.T\n",
    "tmdf4 = pd.DataFrame.from_dict(tmparams4, orient = 'index')\n",
    "tmdf4 = tmdf4.T\n",
    "# tmdf5 = pd.DataFrame.from_dict(tmparams5, orient = 'index')\n",
    "# tmdf5 = tmdf5.T\n",
    "tmdf6 = pd.DataFrame.from_dict(tmparams6, orient = 'index')\n",
    "tmdf6 = tmdf6.T\n",
    "tmdf7 = pd.DataFrame.from_dict(tmparams7, orient = 'index')\n",
    "tmdf7 = tmdf7.T\n",
    "tmdf8 = pd.DataFrame.from_dict(tmparams8, orient = 'index')\n",
    "tmdf8 = tmdf8.T\n",
    "# tmdf9 = pd.DataFrame.from_dict(tmparams9, orient = 'index')\n",
    "# tmdf9 = tmdf9.T\n",
    "tmdf10 = pd.DataFrame.from_dict(tmparams10, orient = 'index')\n",
    "tmdf10 = tmdf10.T\n",
    "tmdf11 = pd.DataFrame.from_dict(tmparams11, orient = 'index')\n",
    "tmdf11 = tmdf11.T\n",
    "tmdf12 = pd.DataFrame.from_dict(tmparams12, orient = 'index')\n",
    "tmdf12 = tmdf12.T\n",
    "tmdf13 = pd.DataFrame.from_dict(tmparams13, orient = 'index')\n",
    "tmdf13 = tmdf13.T\n",
    "tmdf14 = pd.DataFrame.from_dict(tmparams14, orient = 'index')\n",
    "tmdf14 = tmdf14.T\n",
    "tmdf15 = pd.DataFrame.from_dict(tmparams15, orient = 'index')\n",
    "tmdf15 = tmdf15.T\n",
    "tmdf16 = pd.DataFrame.from_dict(tmparams16, orient = 'index')\n",
    "tmdf16 = tmdf16.T\n",
    "# tmdf17 = pd.DataFrame.from_dict(tmparams17, orient = 'index')\n",
    "# tmdf17 = tmdf17.T\n",
    "tmdf18 = pd.DataFrame.from_dict(tmparams18, orient = 'index')\n",
    "tmdf18 = tmdf18.T\n",
    "tmdf19 = pd.DataFrame.from_dict(tmparams19, orient = 'index')\n",
    "tmdf19 = tmdf19.T\n",
    "tmdf20 = pd.DataFrame.from_dict(tmparams20, orient = 'index')\n",
    "tmdf20 = tmdf20.T\n",
    "\n",
    "tm_param_data = pd.concat([tmdf1,tmdf3,tmdf4,tmdf6,tmdf7,tmdf8,tmdf10,\n",
    "                          tmdf11,tmdf12,tmdf13,tmdf14,tmdf15,tmdf16,tmdf18,tmdf19,tmdf20])\n",
    "\n",
    "tm_param_data['OrbitLength'] = tm_param_colors\n",
    "#------------------------------------------\n",
    "pca = PCA(n_components = 2)\n",
    "pca.fit(tm_param_data.iloc[:,0:17])\n",
    "tm_pca = pca.transform(tm_param_data.iloc[:,0:17])\n",
    "\n",
    "labels = tm_param_data.loc[:,'OrbitLength']\n",
    "label_colors = {0:'maroon',1:'blue'}\n",
    "cvec = [label_colors[label] for label in labels]\n",
    "plt.scatter(tm_pca[:,0],tm_pca[:,1], c = cvec)\n",
    "plt.scatter(25,25,c = 'blue',label = 'Large')#point at (25,25) just for labeling purposes\n",
    "plt.scatter(25,25,c = 'maroon', label = 'Small')\n",
    "plt.xlim(-5,5)\n",
    "plt.ylim(-5,5)\n",
    "plt.title('PCA of orbit lengths, TM Black Wall')\n",
    "plt.legend(loc = 'best')\n",
    "# plt.savefig('pca_all_attributes.png')\n",
    "plt.show()\n",
    "plt.close()"
   ]
  },
  {
   "cell_type": "code",
   "execution_count": null,
   "metadata": {},
   "outputs": [],
   "source": []
  }
 ],
 "metadata": {
  "kernelspec": {
   "display_name": "Python 3",
   "language": "python",
   "name": "python3"
  },
  "language_info": {
   "codemirror_mode": {
    "name": "ipython",
    "version": 3
   },
   "file_extension": ".py",
   "mimetype": "text/x-python",
   "name": "python",
   "nbconvert_exporter": "python",
   "pygments_lexer": "ipython3",
   "version": "3.7.6"
  }
 },
 "nbformat": 4,
 "nbformat_minor": 4
}
