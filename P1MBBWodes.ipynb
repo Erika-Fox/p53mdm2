{
 "cells": [
  {
   "cell_type": "code",
   "execution_count": 1,
   "metadata": {},
   "outputs": [],
   "source": [
    "from periodic_orbits import is_periodic, is_equilibrium, stg_coordinate, get_periodic_domains\n",
    "from ode_functions import theta_from_param,ic_function, fun, convert_to_dict, get_parameter_node, get_ic_domain, plot_projections, plot_time_series, plot_phase_projection\n",
    "from ipynb.fs.full.ode_functions import *\n",
    "from periodic_orbits2 import check_sequence\n",
    "import scipy\n",
    "import numpy as np\n",
    "import matplotlib.pyplot as plt\n",
    "import pandas as pd\n",
    "import warnings\n",
    "from sklearn.decomposition import PCA"
   ]
  },
  {
   "cell_type": "code",
   "execution_count": 2,
   "metadata": {},
   "outputs": [],
   "source": [
    "#decay rates\n",
    "decays = {'d_p' : 1, 'd_mc' : 1, 'd_mn' : 1}\n",
    "\n",
    "#hill coefficient\n",
    "n = 90\n",
    "\n",
    "#ode solver parameters\n",
    "t0 = 0\n",
    "tf = 100"
   ]
  },
  {
   "cell_type": "code",
   "execution_count": 3,
   "metadata": {
    "scrolled": true
   },
   "outputs": [],
   "source": [
    "#Import parameters\n",
    "mball = pd.read_csv(\"Parameter_datasets/P1MBBW50Nodes.csv\", header = None)#csv is 50 parameter sets, each as a row\n",
    "mb_params = convert_to_dict_2(mball)"
   ]
  },
  {
   "cell_type": "code",
   "execution_count": 9,
   "metadata": {},
   "outputs": [],
   "source": [
    "# #Import parameters\n",
    "\n",
    "mb1 = pd.read_csv(\"Parameter_datasets/P1MBBWnode1.csv\", header = None)\n",
    "mbparams1 = convert_to_dict(mb1)\n",
    "\n",
    "# mb2 = pd.read_csv(\"Parameter_datasets/P1MBBWnode2.csv\", header = None)\n",
    "# mbparams2 = convert_to_dict(mb2)\n",
    "\n",
    "# mb3 = pd.read_csv(\"Parameter_datasets/P1MBBWnode3.csv\", header = None)\n",
    "# mbparams3 = convert_to_dict(mb3)\n",
    "\n",
    "# mb4 = pd.read_csv(\"Parameter_datasets/P1MBBWnode4.csv\", header = None)\n",
    "# mbparams4 = convert_to_dict(mb4)\n",
    "\n",
    "# mb5 = pd.read_csv(\"Parameter_datasets/P1MBBWnode5.csv\", header = None)\n",
    "# mbparams5 = convert_to_dict(mb5)\n",
    "\n",
    "# mb6 = pd.read_csv(\"Parameter_datasets/P1MBBWnode6.csv\", header = None)\n",
    "# mbparams6 = convert_to_dict(mb6)\n",
    "\n",
    "# mb7 = pd.read_csv(\"Parameter_datasets/P1MBBWnode7.csv\", header = None)\n",
    "# mbparams7 = convert_to_dict(mb7)\n",
    "\n",
    "# mb8 = pd.read_csv(\"Parameter_datasets/P1MBBWnode8.csv\", header = None)\n",
    "# mbparams8 = convert_to_dict(mb8)\n",
    "\n",
    "# mb9 = pd.read_csv(\"Parameter_datasets/P1MBBWnode9.csv\", header = None)\n",
    "# mbparams9 = convert_to_dict(mb9)\n",
    "\n",
    "# mb10 = pd.read_csv(\"Parameter_datasets/P1MBBWnode10.csv\", header = None)\n",
    "# mbparams10 = convert_to_dict(mb10)\n",
    "\n",
    "# mb_params = [mbparams1, mbparams2, mbparams3, mbparams4, mbparams5, mbparams6, mbparams7, mbparams8, mbparams9,\n",
    "#              mbparams10]"
   ]
  },
  {
   "cell_type": "code",
   "execution_count": 10,
   "metadata": {},
   "outputs": [],
   "source": [
    "mb_params.append(mbparams1)"
   ]
  },
  {
   "cell_type": "code",
   "execution_count": 4,
   "metadata": {},
   "outputs": [],
   "source": [
    "#generate ICs in 111 region of parameter 1\n",
    "mb_ICs = []\n",
    "random.seed(0)\n",
    "for i in range(10):\n",
    "    mb_ICs.append(ic_function(\"111\", mb_params[0]))#can split at 111"
   ]
  },
  {
   "cell_type": "code",
   "execution_count": 6,
   "metadata": {},
   "outputs": [
    {
     "name": "stdout",
     "output_type": "stream",
     "text": [
      "Stored 'mb_ICs' (list)\n"
     ]
    }
   ],
   "source": [
    "%store mb_ICs"
   ]
  },
  {
   "cell_type": "code",
   "execution_count": 11,
   "metadata": {
    "scrolled": true
   },
   "outputs": [
    {
     "name": "stdout",
     "output_type": "stream",
     "text": [
      "[20]\n"
     ]
    }
   ],
   "source": [
    "#compute orbit lengths for all parameter, initial condition combinations\n",
    "mb_lengths = []#store orbit lengths, each set of 10 lengths corresponds to different ICs within same parameter\n",
    "mb_sizes = []\n",
    "mb_error_params = []\n",
    "for i in range(len(mb_params)):\n",
    "    try:\n",
    "        param = mb_params[i]\n",
    "        theta = theta_from_param(param)\n",
    "        for IC in mb_ICs:\n",
    "            sol = scipy.integrate.solve_ivp(lambda t,y: fun(t,y,param,n,decays), [0,tf], y0 = IC, method = 'BDF')\n",
    "#             output = get_periodic_domains(sol.y,theta,num_periods_to_verify = 2)\n",
    "#             mb_lengths.append(len(output))\n",
    "#             mb_sizes.append(upper_double_id(output))\n",
    "    except ValueError:\n",
    "        mb_error_params.append(i)\n",
    "\n",
    "print(mb_error_params)"
   ]
  },
  {
   "cell_type": "code",
   "execution_count": 12,
   "metadata": {},
   "outputs": [],
   "source": [
    "good_mb_params = []\n",
    "mb_lengths = []#store orbit lengths, each set of 10 lengths corresponds to different ICs within same parameter\n",
    "mb_sizes = []\n",
    "\n",
    "for i in range(len(mb_params)):\n",
    "    if i not in mb_error_params:\n",
    "        good_mb_params.append(i)\n",
    "\n",
    "for i in good_mb_params:#only indices that don't fail for any of selected ICs\n",
    "    param = mb_params[i]#select good params from original list\n",
    "    theta = theta_from_param(param)\n",
    "    for IC in mb_ICs:\n",
    "        sol = scipy.integrate.solve_ivp(lambda t,y: fun(t,y,param,90,decays), [0,100], y0 = IC, method = 'BDF')\n",
    "        output = get_periodic_domains(sol.y,theta,num_periods_to_verify = 2)\n",
    "        mb_lengths.append(len(output))\n",
    "        mb_sizes.append(lower_double_id(output))#500"
   ]
  },
  {
   "cell_type": "code",
   "execution_count": 15,
   "metadata": {},
   "outputs": [
    {
     "name": "stdout",
     "output_type": "stream",
     "text": [
      "Stored 'mb_sizes' (list)\n"
     ]
    }
   ],
   "source": [
    "%store mb_sizes"
   ]
  },
  {
   "cell_type": "code",
   "execution_count": 13,
   "metadata": {
    "scrolled": false
   },
   "outputs": [
    {
     "name": "stdout",
     "output_type": "stream",
     "text": [
      "mb_param 0 : [72, 4, 12, 36, 72, 64, 15, 2, 36, 36]\n",
      "mb_param 1 : [6, 6, 6, 6, 6, 6, 6, 6, 6, 6]\n",
      "mb_param 2 : [48, 4, 4, 50, 110, 36, 4, 4, 5, 96]\n",
      "mb_param 3 : [8, 8, 8, 8, 8, 8, 8, 8, 8, 8]\n",
      "mb_param 4 : [10, 10, 9, 9, 9, 9, 9, 9, 27, 10]\n",
      "mb_param 5 : [7, 8, 8, 8, 7, 7, 8, 7, 8, 8]\n",
      "mb_param 6 : [10, 10, 10, 10, 10, 10, 10, 10, 9, 10]\n",
      "mb_param 7 : [27, 9, 10, 10, 10, 10, 10, 10, 10, 10]\n",
      "mb_param 8 : [10, 10, 9, 9, 10, 10, 9, 117, 10, 10]\n",
      "mb_param 9 : [8, 8, 8, 8, 8, 8, 8, 8, 8, 8]\n",
      "mb_param 10 : [7, 7, 7, 7, 8, 7, 7, 7, 7, 7]\n",
      "mb_param 11 : [1, 1, 1, 1, 1, 1, 1, 1, 1, 1]\n",
      "mb_param 12 : [8, 8, 8, 8, 8, 8, 8, 8, 8, 8]\n",
      "mb_param 13 : [7, 7, 7, 7, 8, 7, 7, 7, 7, 7]\n",
      "mb_param 14 : [8, 8, 8, 8, 8, 8, 8, 8, 8, 8]\n",
      "mb_param 15 : [7, 8, 8, 7, 8, 7, 8, 7, 8, 7]\n",
      "mb_param 16 : [18, 9, 126, 18, 180, 160, 99, 126, 9, 192]\n",
      "mb_param 17 : [7, 8, 7, 8, 8, 7, 8, 8, 7, 7]\n",
      "mb_param 18 : [7, 8, 7, 7, 7, 7, 8, 8, 7, 7]\n",
      "mb_param 19 : [8, 8, 8, 8, 8, 8, 8, 8, 8, 8]\n",
      "mb_param 20 : [8, 8, 8, 8, 8, 8, 8, 8, 8, 8]\n",
      "mb_param 21 : [10, 10, 10, 10, 10, 10, 10, 10, 10, 10]\n",
      "mb_param 22 : [8, 8, 8, 8, 8, 8, 8, 8, 8, 8]\n",
      "mb_param 23 : [8, 8, 8, 8, 8, 8, 8, 8, 8, 8]\n",
      "mb_param 24 : [10, 10, 10, 10, 10, 10, 10, 10, 10, 10]\n",
      "mb_param 25 : [6, 6, 6, 6, 6, 6, 6, 6, 6, 6]\n",
      "mb_param 26 : [8, 8, 8, 8, 8, 8, 8, 8, 8, 8]\n",
      "mb_param 27 : [9, 8, 9, 9, 9, 10, 8, 9, 8, 9]\n",
      "mb_param 28 : [8, 8, 8, 8, 8, 8, 8, 8, 8, 8]\n",
      "mb_param 29 : [9, 9, 9, 9, 9, 9, 9, 9, 9, 9]\n",
      "mb_param 30 : [8, 8, 8, 8, 8, 8, 8, 8, 8, 8]\n",
      "mb_param 31 : [4, 4, 4, 4, 4, 4, 4, 4, 4, 4]\n",
      "mb_param 32 : [10, 10, 117, 10, 10, 10, 10, 10, 10, 10]\n",
      "mb_param 33 : [96, 8, 36, 36, 9, 96, 108, 72, 9, 9]\n",
      "mb_param 34 : [8, 8, 8, 8, 8, 8, 8, 8, 8, 8]\n",
      "mb_param 35 : [8, 8, 8, 8, 8, 8, 8, 8, 8, 8]\n",
      "mb_param 36 : [10, 10, 10, 10, 10, 10, 10, 10, 10, 10]\n",
      "mb_param 37 : [128, 216, 126, 88, 48, 8, 153, 27, 9, 49]\n",
      "mb_param 38 : [9, 9, 9, 9, 10, 9, 9, 10, 9, 9]\n",
      "mb_param 39 : [6, 6, 6, 6, 6, 6, 6, 6, 6, 6]\n",
      "mb_param 40 : [8, 70, 7, 7, 8, 70, 7, 70, 7, 7]\n",
      "mb_param 41 : [8, 8, 8, 8, 8, 8, 8, 8, 8, 8]\n",
      "mb_param 42 : [8, 8, 8, 8, 8, 8, 8, 8, 8, 8]\n",
      "mb_param 43 : [9, 10, 10, 10, 10, 10, 10, 10, 10, 10]\n",
      "mb_param 44 : [10, 9, 10, 10, 10, 108, 10, 135, 10, 104]\n",
      "mb_param 45 : [7, 8, 7, 7, 7, 7, 8, 8, 7, 7]\n",
      "mb_param 46 : [7, 8, 7, 7, 7, 7, 8, 8, 7, 7]\n",
      "mb_param 47 : [9, 9, 9, 10, 10, 110, 9, 9, 9, 100]\n",
      "mb_param 48 : [8, 8, 8, 8, 8, 8, 8, 8, 8, 8]\n",
      "mb_param 49 : [6, 6, 6, 6, 6, 6, 6, 6, 6, 6]\n"
     ]
    }
   ],
   "source": [
    "#observe orbit lengths (columns are different initial conditions)\n",
    "npendpts = np.linspace(0,500,51)\n",
    "endpts = []\n",
    "for i in npendpts:\n",
    "    endpts.append(int(i))\n",
    "for i in range(len(endpts)-1):\n",
    "    print('mb_param', i, ':', mb_lengths[endpts[i]:endpts[i+1]])"
   ]
  },
  {
   "cell_type": "markdown",
   "metadata": {},
   "source": [
    "No consistency here... Go back through and identify by size, not length (expect an upper double loop)"
   ]
  },
  {
   "cell_type": "code",
   "execution_count": 14,
   "metadata": {
    "scrolled": false
   },
   "outputs": [
    {
     "name": "stdout",
     "output_type": "stream",
     "text": [
      "mb_param 0 : ['Small', 'Small', 'Small', 'Small', 'Small', 'Small', 'Small', 'Small', 'Small', 'Small']\n",
      "mb_param 1 : ['Large', 'Large', 'Large', 'Large', 'Large', 'Large', 'Large', 'Large', 'Large', 'Large']\n",
      "mb_param 2 : ['Small', 'Small', 'Small', 'Small', 'Small', 'Small', 'Small', 'Small', 'Small', 'Small']\n",
      "mb_param 3 : ['Large', 'Large', 'Large', 'Large', 'Large', 'Large', 'Large', 'Large', 'Large', 'Large']\n",
      "mb_param 4 : ['Large', 'Large', 'Large', 'Large', 'Large', 'Large', 'Large', 'Large', 'Large', 'Large']\n",
      "mb_param 5 : ['Large', 'Large', 'Large', 'Large', 'Large', 'Large', 'Large', 'Large', 'Large', 'Large']\n",
      "mb_param 6 : ['Large', 'Large', 'Large', 'Large', 'Large', 'Large', 'Large', 'Large', 'Large', 'Large']\n",
      "mb_param 7 : ['Large', 'Large', 'Large', 'Large', 'Large', 'Large', 'Large', 'Large', 'Large', 'Large']\n",
      "mb_param 8 : ['Large', 'Large', 'Large', 'Large', 'Large', 'Large', 'Large', 'Large', 'Large', 'Large']\n",
      "mb_param 9 : ['Large', 'Large', 'Large', 'Large', 'Large', 'Large', 'Large', 'Large', 'Large', 'Large']\n",
      "mb_param 10 : ['Large', 'Large', 'Large', 'Large', 'Large', 'Large', 'Large', 'Large', 'Large', 'Large']\n",
      "mb_param 11 : ['Small', 'Small', 'Small', 'Small', 'Small', 'Small', 'Small', 'Small', 'Small', 'Small']\n",
      "mb_param 12 : ['Large', 'Large', 'Large', 'Large', 'Large', 'Large', 'Large', 'Large', 'Large', 'Large']\n",
      "mb_param 13 : ['Large', 'Large', 'Large', 'Large', 'Large', 'Large', 'Large', 'Large', 'Large', 'Large']\n",
      "mb_param 14 : ['Large', 'Large', 'Large', 'Large', 'Large', 'Large', 'Large', 'Large', 'Large', 'Large']\n",
      "mb_param 15 : ['Large', 'Large', 'Large', 'Large', 'Large', 'Large', 'Large', 'Large', 'Large', 'Large']\n",
      "mb_param 16 : ['Large', 'Large', 'Large', 'Large', 'Large', 'Large', 'Large', 'Large', 'Large', 'Large']\n",
      "mb_param 17 : ['Large', 'Large', 'Large', 'Large', 'Large', 'Large', 'Large', 'Large', 'Large', 'Large']\n",
      "mb_param 18 : ['Large', 'Large', 'Large', 'Large', 'Large', 'Large', 'Large', 'Large', 'Large', 'Large']\n",
      "mb_param 19 : ['Large', 'Large', 'Large', 'Large', 'Large', 'Large', 'Large', 'Large', 'Large', 'Large']\n",
      "mb_param 20 : ['Large', 'Large', 'Large', 'Large', 'Large', 'Large', 'Large', 'Large', 'Large', 'Large']\n",
      "mb_param 21 : ['Large', 'Large', 'Large', 'Large', 'Large', 'Large', 'Large', 'Large', 'Large', 'Large']\n",
      "mb_param 22 : ['Large', 'Large', 'Large', 'Large', 'Large', 'Large', 'Large', 'Large', 'Large', 'Large']\n",
      "mb_param 23 : ['Large', 'Large', 'Large', 'Large', 'Large', 'Large', 'Large', 'Large', 'Large', 'Large']\n",
      "mb_param 24 : ['Large', 'Large', 'Large', 'Large', 'Large', 'Large', 'Large', 'Large', 'Large', 'Large']\n",
      "mb_param 25 : ['Large', 'Large', 'Large', 'Large', 'Large', 'Large', 'Large', 'Large', 'Large', 'Large']\n",
      "mb_param 26 : ['Large', 'Large', 'Large', 'Large', 'Large', 'Large', 'Large', 'Large', 'Large', 'Large']\n",
      "mb_param 27 : ['Large', 'Large', 'Large', 'Large', 'Large', 'Large', 'Large', 'Large', 'Large', 'Large']\n",
      "mb_param 28 : ['Large', 'Large', 'Large', 'Large', 'Large', 'Large', 'Large', 'Large', 'Large', 'Large']\n",
      "mb_param 29 : ['Large', 'Large', 'Large', 'Large', 'Large', 'Large', 'Large', 'Large', 'Large', 'Large']\n",
      "mb_param 30 : ['Large', 'Large', 'Large', 'Large', 'Large', 'Large', 'Large', 'Large', 'Large', 'Large']\n",
      "mb_param 31 : ['Small', 'Small', 'Small', 'Small', 'Small', 'Small', 'Small', 'Small', 'Small', 'Small']\n",
      "mb_param 32 : ['Large', 'Large', 'Large', 'Large', 'Large', 'Large', 'Large', 'Large', 'Large', 'Large']\n",
      "mb_param 33 : ['Large', 'Large', 'Large', 'Large', 'Large', 'Large', 'Large', 'Large', 'Large', 'Large']\n",
      "mb_param 34 : ['Large', 'Large', 'Large', 'Large', 'Large', 'Large', 'Large', 'Large', 'Large', 'Large']\n",
      "mb_param 35 : ['Large', 'Large', 'Large', 'Large', 'Large', 'Large', 'Large', 'Large', 'Large', 'Large']\n",
      "mb_param 36 : ['Large', 'Large', 'Large', 'Large', 'Large', 'Large', 'Large', 'Large', 'Large', 'Large']\n",
      "mb_param 37 : ['Large', 'Large', 'Large', 'Large', 'Large', 'Large', 'Large', 'Large', 'Large', 'Large']\n",
      "mb_param 38 : ['Large', 'Large', 'Large', 'Large', 'Large', 'Large', 'Large', 'Large', 'Large', 'Large']\n",
      "mb_param 39 : ['Large', 'Large', 'Large', 'Large', 'Large', 'Large', 'Large', 'Large', 'Large', 'Large']\n",
      "mb_param 40 : ['Large', 'Large', 'Large', 'Large', 'Large', 'Large', 'Large', 'Large', 'Large', 'Large']\n",
      "mb_param 41 : ['Large', 'Large', 'Large', 'Large', 'Large', 'Large', 'Large', 'Large', 'Large', 'Large']\n",
      "mb_param 42 : ['Large', 'Large', 'Large', 'Large', 'Large', 'Large', 'Large', 'Large', 'Large', 'Large']\n",
      "mb_param 43 : ['Large', 'Large', 'Large', 'Large', 'Large', 'Large', 'Large', 'Large', 'Large', 'Large']\n",
      "mb_param 44 : ['Large', 'Large', 'Large', 'Large', 'Large', 'Large', 'Large', 'Large', 'Large', 'Large']\n",
      "mb_param 45 : ['Large', 'Large', 'Large', 'Large', 'Large', 'Large', 'Large', 'Large', 'Large', 'Large']\n",
      "mb_param 46 : ['Large', 'Large', 'Large', 'Large', 'Large', 'Large', 'Large', 'Large', 'Large', 'Large']\n",
      "mb_param 47 : ['Large', 'Large', 'Large', 'Large', 'Large', 'Large', 'Large', 'Large', 'Large', 'Large']\n",
      "mb_param 48 : ['Large', 'Large', 'Large', 'Large', 'Large', 'Large', 'Large', 'Large', 'Large', 'Large']\n",
      "mb_param 49 : ['Large', 'Large', 'Large', 'Large', 'Large', 'Large', 'Large', 'Large', 'Large', 'Large']\n"
     ]
    }
   ],
   "source": [
    "#observe orbit lengths (columns are different initial conditions)\n",
    "for i in range(len(endpts)-1):\n",
    "    print('mb_param', i, ':', mb_sizes[endpts[i]:endpts[i+1]])"
   ]
  },
  {
   "cell_type": "markdown",
   "metadata": {},
   "source": [
    "Now we see consistent results. Use this identifier for linear connection and PCA."
   ]
  },
  {
   "cell_type": "code",
   "execution_count": 15,
   "metadata": {},
   "outputs": [
    {
     "data": {
      "image/png": "[encoded data removed]",
      "text/plain": [
       "<Figure size 864x360 with 2 Axes>"
      ]
     },
     "metadata": {
      "needs_background": "light"
     },
     "output_type": "display_data"
    }
   ],
   "source": [
    "#plotting framework\n",
    "param = mb_params[13]\n",
    "sol0 = scipy.integrate.solve_ivp(lambda t,y: fun(t,y,param,n,decays), [0,tf], y0 = mb_ICs[2], method = 'BDF')\n",
    "sol1 = scipy.integrate.solve_ivp(lambda t,y: fun(t,y,param,n,decays), [0,tf], y0 = mb_ICs[3], method = 'BDF')\n",
    "\n",
    "fig,(ax1,ax2) = plot_projections(sol0, param)\n",
    "plot_projections(sol1, param, axs = (ax1, ax2))\n",
    "# ax1.set_xlim(1,2.75)\n",
    "# # ax1.set_ylim(0.3,0.8)\n",
    "# ax2.set_xlim(0.6,1)\n",
    "# ax2.set_ylim(0,8.5)"
   ]
  },
  {
   "cell_type": "markdown",
   "metadata": {},
   "source": [
    "Now, examine all possible lines of parameters between length 6 and a length 8 orbits to see if hysteresis is a possibility."
   ]
  },
  {
   "cell_type": "markdown",
   "metadata": {},
   "source": [
    "Edit: separate into large and small EXCEPT for mb_params[4] to see if that eliminate blowup problem in linear connections check stage."
   ]
  },
  {
   "cell_type": "code",
   "execution_count": 39,
   "metadata": {},
   "outputs": [
    {
     "data": {
      "text/plain": [
       "9"
      ]
     },
     "execution_count": 39,
     "metadata": {},
     "output_type": "execute_result"
    }
   ],
   "source": [
    "len(mb_params)"
   ]
  },
  {
   "cell_type": "code",
   "execution_count": 38,
   "metadata": {},
   "outputs": [
    {
     "data": {
      "text/plain": [
       "{'LMcMc': 0.4375,\n",
       " 'LMcP': 2.0,\n",
       " 'LMcPT': 0.875,\n",
       " 'LMnMc': 0.4375,\n",
       " 'LMnP': 0.65625,\n",
       " 'LPMn': 0.25,\n",
       " 'thetaMcMc': 1.5078125,\n",
       " 'thetaMcP': 1.25,\n",
       " 'thetaMcPT': 1.75,\n",
       " 'thetaMnMc': 1.53515625,\n",
       " 'thetaPMn': 0.478515625,\n",
       " 'UMcMc': 0.875,\n",
       " 'UMcP': 2.328125,\n",
       " 'UMcPT': 1.0,\n",
       " 'UMnMc': 0.875,\n",
       " 'UMnP': 0.875,\n",
       " 'UPMn': 2.0}"
      ]
     },
     "execution_count": 38,
     "metadata": {},
     "output_type": "execute_result"
    }
   ],
   "source": [
    "#remove param set 4\n",
    "mb_params.pop(4)"
   ]
  },
  {
   "cell_type": "code",
   "execution_count": 40,
   "metadata": {},
   "outputs": [],
   "source": [
    "# #begin edit\n",
    "# mb_params = \n",
    "large, small = separate(mb_params, '111')"
   ]
  },
  {
   "cell_type": "code",
   "execution_count": 41,
   "metadata": {},
   "outputs": [],
   "source": [
    "line_list = generate_all_lines(small, large, 50)"
   ]
  },
  {
   "cell_type": "markdown",
   "metadata": {},
   "source": [
    "This is where error occurs... It seems as though mb_param 4 might have something odd happening. If we eliminate that set, will it run? How to remove? That requires remembering how my code works."
   ]
  },
  {
   "cell_type": "code",
   "execution_count": 42,
   "metadata": {
    "scrolled": true
   },
   "outputs": [
    {
     "name": "stdout",
     "output_type": "stream",
     "text": [
      "CPU times: user 3min 33s, sys: 2.53 s, total: 3min 36s\n",
      "Wall time: 3min 46s\n"
     ]
    },
    {
     "data": {
      "text/plain": [
       "[False,\n",
       " False,\n",
       " True,\n",
       " True,\n",
       " True,\n",
       " True,\n",
       " True,\n",
       " True,\n",
       " False,\n",
       " True,\n",
       " False,\n",
       " True,\n",
       " False,\n",
       " True,\n",
       " True,\n",
       " True,\n",
       " True,\n",
       " False]"
      ]
     },
     "execution_count": 42,
     "metadata": {},
     "output_type": "execute_result"
    }
   ],
   "source": [
    "%%time\n",
    "check_list(line_list, n = 90)"
   ]
  },
  {
   "cell_type": "markdown",
   "metadata": {},
   "source": [
    "Oh hey that actually worked, surpringly! So now we have another parameter node for which there are directional differences that require more investigation. Investigate via plotting or other better method?"
   ]
  },
  {
   "cell_type": "markdown",
   "metadata": {},
   "source": [
    "### PCA"
   ]
  },
  {
   "cell_type": "code",
   "execution_count": 12,
   "metadata": {},
   "outputs": [],
   "source": [
    "#0 is small, 1 is large\n",
    "mb_param_colors = [0,0,1,1,1,1,1,1,0,1]\n",
    "\n",
    "mbdf1 = pd.DataFrame.from_dict(mbparams1, orient = 'index')\n",
    "mbdf1 = mbdf1.T\n",
    "mbdf2 = pd.DataFrame.from_dict(mbparams2, orient = 'index')\n",
    "mbdf2 = mbdf2.T\n",
    "mbdf3 = pd.DataFrame.from_dict(mbparams3, orient = 'index')\n",
    "mbdf3 = mbdf3.T\n",
    "mbdf4 = pd.DataFrame.from_dict(mbparams4, orient = 'index')\n",
    "mbdf4 = mbdf4.T\n",
    "mbdf5 = pd.DataFrame.from_dict(mbparams5, orient = 'index')\n",
    "mbdf5 = mbdf5.T\n",
    "mbdf6 = pd.DataFrame.from_dict(mbparams6, orient = 'index')\n",
    "mbdf6 = mbdf6.T\n",
    "mbdf7 = pd.DataFrame.from_dict(mbparams7, orient = 'index')\n",
    "mbdf7 = mbdf7.T\n",
    "mbdf8 = pd.DataFrame.from_dict(mbparams8, orient = 'index')\n",
    "mbdf8 = mbdf8.T\n",
    "mbdf9 = pd.DataFrame.from_dict(mbparams9, orient = 'index')\n",
    "mbdf9 = mbdf9.T\n",
    "mbdf10 = pd.DataFrame.from_dict(mbparams10, orient = 'index')\n",
    "mbdf10 = mbdf10.T\n",
    "\n",
    "mb_param_data = pd.concat([mbdf1,mbdf2,mbdf3,mbdf4,mbdf5,mbdf6,mbdf7,mbdf8,mbdf9,mbdf10])\n",
    "\n",
    "mb_param_data['OrbitLength'] = mb_param_colors"
   ]
  },
  {
   "cell_type": "code",
   "execution_count": 13,
   "metadata": {},
   "outputs": [
    {
     "data": {
      "image/png": "[encoded data removed]",
      "text/plain": [
       "<Figure size 432x288 with 1 Axes>"
      ]
     },
     "metadata": {
      "needs_background": "light"
     },
     "output_type": "display_data"
    }
   ],
   "source": [
    "pca = PCA(n_components = 2)\n",
    "pca.fit(mb_param_data.iloc[:,0:17])\n",
    "mb_pca = pca.transform(mb_param_data.iloc[:,0:17])\n",
    "\n",
    "labels = mb_param_data.loc[:,'OrbitLength']\n",
    "label_colors = {0:'maroon',1:'blue'}\n",
    "cvec = [label_colors[label] for label in labels]\n",
    "plt.scatter(mb_pca[:,0],mb_pca[:,1], c = cvec)\n",
    "plt.scatter(25,25,c = 'blue',label = 'Large')#point at (25,25) just for labeling purposes\n",
    "plt.scatter(25,25,c = 'maroon', label = 'Small')\n",
    "plt.xlim(-5,5)\n",
    "plt.ylim(-5,5)\n",
    "plt.title('PCA of orbit size, MB Black Wall')\n",
    "plt.legend(loc = 'best')\n",
    "# plt.savefig('pca_all_attributes.png')\n",
    "plt.show()\n",
    "plt.close()"
   ]
  },
  {
   "cell_type": "markdown",
   "metadata": {},
   "source": [
    "This one doesn't appear to have much spatial separation by orbit size."
   ]
  },
  {
   "cell_type": "code",
   "execution_count": null,
   "metadata": {},
   "outputs": [],
   "source": []
  }
 ],
 "metadata": {
  "kernelspec": {
   "display_name": "Python 3",
   "language": "python",
   "name": "python3"
  },
  "language_info": {
   "codemirror_mode": {
    "name": "ipython",
    "version": 3
   },
   "file_extension": ".py",
   "mimetype": "text/x-python",
   "name": "python",
   "nbconvert_exporter": "python",
   "pygments_lexer": "ipython3",
   "version": "3.7.6"
  }
 },
 "nbformat": 4,
 "nbformat_minor": 4
}
