{
 "cells": [
  {
   "cell_type": "code",
   "execution_count": 1,
   "metadata": {},
   "outputs": [],
   "source": [
    "from periodic_orbits import is_periodic, is_equilibrium, stg_coordinate, get_periodic_domains\n",
    "from ode_functions import theta_from_param,ic_function, fun, convert_to_dict, get_parameter_node, get_ic_domain, plot_projections, plot_time_series, plot_phase_projection\n",
    "from ipynb.fs.full.ode_functions import get_param_distance, param_line, lower_double_id, upper_double_id, separate, generate_all_lines, check_list\n",
    "from periodic_orbits2 import check_sequence\n",
    "import scipy\n",
    "import numpy as np\n",
    "import matplotlib.pyplot as plt\n",
    "import pandas as pd\n",
    "import warnings\n",
    "from sklearn.decomposition import PCA"
   ]
  },
  {
   "cell_type": "code",
   "execution_count": 2,
   "metadata": {},
   "outputs": [],
   "source": [
    "#decay rates\n",
    "decays = {'d_p' : 1, 'd_mc' : 1, 'd_mn' : 1}\n",
    "\n",
    "#hill coefficient\n",
    "n = 90\n",
    "\n",
    "#ode solver parameters\n",
    "t0 = 0\n",
    "tf = 100"
   ]
  },
  {
   "cell_type": "code",
   "execution_count": 3,
   "metadata": {},
   "outputs": [],
   "source": [
    "#Import parameters\n",
    "\n",
    "mback1 = pd.read_csv(\"Parameter_datasets/P1MBWbacknode1.csv\", header = None)\n",
    "mbackparams1 = convert_to_dict(mback1)\n",
    "\n",
    "mback2 = pd.read_csv(\"Parameter_datasets/P1MBWbacknode2.csv\", header = None)\n",
    "mbackparams2 = convert_to_dict(mback2)\n",
    "\n",
    "mback3 = pd.read_csv(\"Parameter_datasets/P1MBWbacknode3.csv\", header = None)\n",
    "mbackparams3 = convert_to_dict(mback3)\n",
    "\n",
    "mback4 = pd.read_csv(\"Parameter_datasets/P1MBWbacknode4.csv\", header = None)\n",
    "mbackparams4 = convert_to_dict(mback4)\n",
    "\n",
    "mback5 = pd.read_csv(\"Parameter_datasets/P1MBWbacknode5.csv\", header = None)\n",
    "mbackparams5 = convert_to_dict(mback5)\n",
    "\n",
    "mback6 = pd.read_csv(\"Parameter_datasets/P1MBWbacknode6.csv\", header = None)\n",
    "mbackparams6 = convert_to_dict(mback6)\n",
    "\n",
    "mback7 = pd.read_csv(\"Parameter_datasets/P1MBWbacknode7.csv\", header = None)\n",
    "mbackparams7 = convert_to_dict(mback7)\n",
    "\n",
    "mback8 = pd.read_csv(\"Parameter_datasets/P1MBWbacknode8.csv\", header = None)\n",
    "mbackparams8 = convert_to_dict(mback8)\n",
    "\n",
    "mback9 = pd.read_csv(\"Parameter_datasets/P1MBWbacknode9.csv\", header = None)\n",
    "mbackparams9 = convert_to_dict(mback9)\n",
    "\n",
    "mback10 = pd.read_csv(\"Parameter_datasets/P1MBWbacknode10.csv\", header = None)\n",
    "mbackparams10 = convert_to_dict(mback10)\n",
    "\n",
    "mback_params = [mbackparams1, mbackparams2, mbackparams3, mbackparams4, mbackparams5, mbackparams6, mbackparams7, mbackparams8, mbackparams9,\n",
    "             mbackparams10]"
   ]
  },
  {
   "cell_type": "code",
   "execution_count": 4,
   "metadata": {},
   "outputs": [],
   "source": [
    "#generate 10 ICs in 111 region of parameter 1, 10 ICs in 002. 111 is potential splitting point.\n",
    "#curious if ICs on big back orbit collapse into big front orbit or another orbit\n",
    "#Note: \"111\" varies across parameters and takes on values in 110, midMR, midBR, 011, 010, 100 (all 6 bottom right, front bottom left)\n",
    "#      \"002\" varies across parameters and takes on values in 001, 011, 012 (back top 4)\n",
    "mback_ICs = []\n",
    "for i in range(10):\n",
    "    mback_ICs.append(ic_function(\"111\", mback_params[0]))"
   ]
  },
  {
   "cell_type": "code",
   "execution_count": 5,
   "metadata": {},
   "outputs": [
    {
     "name": "stderr",
     "output_type": "stream",
     "text": [
      "/Users/Erika/Documents/Math/Research/periodic_orbits.py:96: UserWarning: get_periodic_domains looked at all time points but did not verify a periodic sequence to desired verification level of num_periods_to_verify = 2. The trajectory may not be periodic.\n",
      "  warnings.warn('get_periodic_domains looked at all time points but did not verify a periodic sequence to desired verification level of num_periods_to_verify = {}. The trajectory may not be periodic.'.format(num_periods_to_verify))\n"
     ]
    }
   ],
   "source": [
    "#compute orbit lengths for all parameter, initial condition combinations\n",
    "mback_lengths = []#store orbit lengths, each set of 10 lengths corresponds to different ICs within same parameter\n",
    "mback_sizes = []\n",
    "for param in mback_params:\n",
    "    theta = theta_from_param(param)\n",
    "    for IC in mback_ICs:\n",
    "        sol = scipy.integrate.solve_ivp(lambda t,y: fun(t,y,param,n,decays), [0,tf], y0 = IC, method = 'BDF')\n",
    "        output = get_periodic_domains(sol.y,theta,num_periods_to_verify = 2)\n",
    "        mback_lengths.append(len(output))\n",
    "        mback_sizes.append(upper_double_id(output))"
   ]
  },
  {
   "cell_type": "code",
   "execution_count": 6,
   "metadata": {},
   "outputs": [
    {
     "name": "stdout",
     "output_type": "stream",
     "text": [
      "mback_param 0 : [10, 10, 10, 99, 10, 10, 10, 10, 10, 10]\n",
      "mback_param 1 : [9, 10, 10, 10, 10, 10, 9, 10, 10, 10]\n",
      "mback_param 2 : [7, 7, 7, 7, 7, 8, 7, 7, 7, 7]\n",
      "mback_param 3 : [10, 10, 10, 10, 10, 108, 10, 10, 10, 108]\n",
      "mback_param 4 : [6, 56, 6, 8, 36, 35, 6, 6, 6, 6]\n",
      "mback_param 5 : [10, 10, 10, 10, 10, 108, 10, 10, 10, 108]\n",
      "mback_param 6 : [10, 10, 10, 10, 10, 10, 10, 10, 10, 10]\n",
      "mback_param 7 : [10, 108, 10, 10, 117, 10, 10, 10, 10, 135]\n",
      "mback_param 8 : [10, 10, 10, 10, 99, 10, 10, 9, 10, 10]\n",
      "mback_param 9 : [9, 9, 9, 9, 100, 9, 10, 10, 9, 10]\n"
     ]
    }
   ],
   "source": [
    "#observe orbit lengths (columns are different initial conditions)\n",
    "endpts = [0,10,20,30,40,50,60,70,80,90,100]\n",
    "for i in range(len(endpts)-1):\n",
    "    print('mback_param', i, ':', mback_lengths[endpts[i]:endpts[i+1]])"
   ]
  },
  {
   "cell_type": "code",
   "execution_count": 7,
   "metadata": {},
   "outputs": [
    {
     "name": "stdout",
     "output_type": "stream",
     "text": [
      "mback_param 0 : ['Large', 'Large', 'Large', 'Large', 'Large', 'Large', 'Large', 'Large', 'Large', 'Large']\n",
      "mback_param 1 : ['Large', 'Large', 'Large', 'Large', 'Large', 'Large', 'Large', 'Large', 'Large', 'Large']\n",
      "mback_param 2 : ['Small', 'Small', 'Small', 'Small', 'Small', 'Small', 'Small', 'Small', 'Small', 'Small']\n",
      "mback_param 3 : ['Large', 'Large', 'Large', 'Large', 'Large', 'Large', 'Large', 'Large', 'Large', 'Large']\n",
      "mback_param 4 : ['Small', 'Small', 'Small', 'Small', 'Large', 'Small', 'Small', 'Small', 'Small', 'Small']\n",
      "mback_param 5 : ['Large', 'Large', 'Large', 'Large', 'Large', 'Large', 'Large', 'Large', 'Large', 'Large']\n",
      "mback_param 6 : ['Large', 'Large', 'Large', 'Large', 'Large', 'Large', 'Large', 'Large', 'Large', 'Large']\n",
      "mback_param 7 : ['Large', 'Large', 'Large', 'Large', 'Large', 'Large', 'Large', 'Large', 'Large', 'Large']\n",
      "mback_param 8 : ['Large', 'Large', 'Large', 'Large', 'Large', 'Large', 'Large', 'Large', 'Large', 'Large']\n",
      "mback_param 9 : ['Large', 'Large', 'Large', 'Large', 'Large', 'Large', 'Large', 'Large', 'Large', 'Large']\n"
     ]
    }
   ],
   "source": [
    "#observe orbit lengths (columns are different initial conditions)\n",
    "endpts = [0,10,20,30,40,50,60,70,80,90,100]\n",
    "for i in range(len(endpts)-1):\n",
    "    print('mback_param', i, ':', mback_sizes[endpts[i]:endpts[i+1]])"
   ]
  },
  {
   "cell_type": "code",
   "execution_count": 8,
   "metadata": {},
   "outputs": [],
   "source": [
    "large, small = separate(mback_params, '111')"
   ]
  },
  {
   "cell_type": "code",
   "execution_count": 9,
   "metadata": {},
   "outputs": [],
   "source": [
    "line_list = generate_all_lines(small, large, 50)"
   ]
  },
  {
   "cell_type": "code",
   "execution_count": 12,
   "metadata": {},
   "outputs": [
    {
     "name": "stdout",
     "output_type": "stream",
     "text": [
      "CPU times: user 2min 42s, sys: 722 ms, total: 2min 43s\n",
      "Wall time: 2min 47s\n"
     ]
    },
    {
     "data": {
      "text/plain": [
       "[False,\n",
       " False,\n",
       " False,\n",
       " False,\n",
       " False,\n",
       " False,\n",
       " True,\n",
       " False,\n",
       " True,\n",
       " True,\n",
       " True,\n",
       " True,\n",
       " False,\n",
       " True,\n",
       " True,\n",
       " False]"
      ]
     },
     "execution_count": 12,
     "metadata": {},
     "output_type": "execute_result"
    }
   ],
   "source": [
    "%%time\n",
    "check_list(line_list)"
   ]
  },
  {
   "cell_type": "markdown",
   "metadata": {},
   "source": [
    "Note: Time is only about 3 minutes for 10 parameters (16 total large/small combinations). Interesting, we get some Trues! Is this the result of 'shakey' orbits (probably) or of actual birythmicity (likely not)? Investigate these particular linear connections:"
   ]
  },
  {
   "cell_type": "code",
   "execution_count": 165,
   "metadata": {},
   "outputs": [],
   "source": [
    "line = line_list[14]\n",
    "sizes = []\n",
    "#for the sake of easy ICs for first run\n",
    "param = line[0]\n",
    "sol = scipy.integrate.solve_ivp(fun, [0, tf], y0 = [param['thetaMnMc'], param['thetaPMn'], param['thetaMcP']], args = [param, n, decays], method = 'BDF')\n",
    "#create sizes, list of lenghts in forward direction\n",
    "for param in line:\n",
    "    theta = theta_from_param(param)\n",
    "    IC = [sol.y[0,-1],sol.y[1,-1],sol.y[2,-1]]\n",
    "    sol = scipy.integrate.solve_ivp(fun, [0, tf], y0 = IC, args = [param, n, decays], method = 'BDF')\n",
    "    if param == line[45]:\n",
    "        sol1 = sol\n",
    "    if param == line[46]:\n",
    "        sol2 = sol\n",
    "    if param == line[48]:\n",
    "        sol3 = sol\n",
    "#     if param == line[47]:\n",
    "#         sol4 = sol\n",
    "    output = get_periodic_domains(sol.y,theta,num_periods_to_verify = 2)\n",
    "    size = upper_double_id(output)\n",
    "    sizes.append(size)"
   ]
  },
  {
   "cell_type": "code",
   "execution_count": 166,
   "metadata": {},
   "outputs": [],
   "source": [
    "rev_line = line.copy()\n",
    "rev_line.reverse()\n",
    "rev_sizes = []\n",
    "#for the sake of easy ICs for first run\n",
    "param = rev_line[0]\n",
    "sol = scipy.integrate.solve_ivp(fun, [0, tf], y0 = [param['thetaMnMc'], param['thetaPMn'], param['thetaMcP']], args = [param, n, decays], method = 'BDF')\n",
    "for param in rev_line:\n",
    "    theta = theta_from_param(param)\n",
    "    rev_IC = [sol.y[0,-1],sol.y[1,-1],sol.y[2,-1]]\n",
    "    sol = scipy.integrate.solve_ivp(fun, [0, tf], y0 = rev_IC, args = [param, n, decays], method = 'BDF')\n",
    "    if param == line[45]:\n",
    "        sol1b = sol\n",
    "    if param == line[46]:\n",
    "        sol2b = sol\n",
    "    if param == line[48]:\n",
    "        sol3b = sol\n",
    "#     if param == line[47]:\n",
    "#         sol4b = sol\n",
    "    output = get_periodic_domains(sol.y,theta,num_periods_to_verify = 2)\n",
    "    size = upper_double_id(output)\n",
    "    rev_sizes.append(size)\n",
    "rev_rev_sizes = rev_sizes.copy()\n",
    "rev_rev_sizes.reverse()"
   ]
  },
  {
   "cell_type": "code",
   "execution_count": 176,
   "metadata": {},
   "outputs": [
    {
     "name": "stderr",
     "output_type": "stream",
     "text": [
      "/Users/Erika/Documents/Math/Research/periodic_orbits.py:96: UserWarning: get_periodic_domains looked at all time points but did not verify a periodic sequence to desired verification level of num_periods_to_verify = 2. The trajectory may not be periodic.\n",
      "  warnings.warn('get_periodic_domains looked at all time points but did not verify a periodic sequence to desired verification level of num_periods_to_verify = {}. The trajectory may not be periodic.'.format(num_periods_to_verify))\n"
     ]
    }
   ],
   "source": [
    "output1 = get_periodic_domains(sol3.y, theta_from_param(line[48]), num_periods_to_verify = 2)\n",
    "output2 = get_periodic_domains(sol3b.y, theta_from_param(line[48]), num_periods_to_verify = 2)"
   ]
  },
  {
   "cell_type": "code",
   "execution_count": 177,
   "metadata": {},
   "outputs": [
    {
     "data": {
      "text/plain": [
       "'Large'"
      ]
     },
     "execution_count": 177,
     "metadata": {},
     "output_type": "execute_result"
    }
   ],
   "source": [
    "upper_double_id(output1)"
   ]
  },
  {
   "cell_type": "code",
   "execution_count": 178,
   "metadata": {},
   "outputs": [
    {
     "data": {
      "text/plain": [
       "'Small'"
      ]
     },
     "execution_count": 178,
     "metadata": {},
     "output_type": "execute_result"
    }
   ],
   "source": [
    "upper_double_id(output2)"
   ]
  },
  {
   "cell_type": "code",
   "execution_count": 167,
   "metadata": {},
   "outputs": [
    {
     "name": "stdout",
     "output_type": "stream",
     "text": [
      "0 Large Large\n",
      "1 Large Large\n",
      "2 Large Large\n",
      "3 Large Large\n",
      "4 Large Large\n",
      "5 Large Large\n",
      "6 Large Large\n",
      "7 Large Large\n",
      "8 Large Large\n",
      "9 Large Large\n",
      "10 Large Large\n",
      "11 Large Large\n",
      "12 Large Large\n",
      "13 Large Large\n",
      "14 Large Large\n",
      "15 Large Large\n",
      "16 Large Large\n",
      "17 Large Large\n",
      "18 Large Large\n",
      "19 Large Large\n",
      "20 Large Large\n",
      "21 Large Large\n",
      "22 Large Large\n",
      "23 Large Large\n",
      "24 Large Large\n",
      "25 Large Large\n",
      "26 Large Large\n",
      "27 Large Large\n",
      "28 Large Large\n",
      "29 Large Large\n",
      "30 Large Large\n",
      "31 Large Large\n",
      "32 Large Large\n",
      "33 Large Large\n",
      "34 Large Large\n",
      "35 Large Large\n",
      "36 Large Large\n",
      "37 Large Large\n",
      "38 Large Large\n",
      "39 Large Large\n",
      "40 Large Large\n",
      "41 Large Large\n",
      "42 Large Large\n",
      "43 Large Large\n",
      "44 Large Large\n",
      "45 Small Large\n",
      "46 Large Small\n",
      "47 Small Small\n",
      "48 Large Small\n",
      "49 Small Small\n"
     ]
    }
   ],
   "source": [
    "for i in range(len(sizes)):\n",
    "    print(i, sizes[i], rev_rev_sizes[i])"
   ]
  },
  {
   "cell_type": "code",
   "execution_count": 182,
   "metadata": {
    "scrolled": true
   },
   "outputs": [
    {
     "data": {
      "text/plain": [
       "(0, 8.5)"
      ]
     },
     "execution_count": 182,
     "metadata": {},
     "output_type": "execute_result"
    },
    {
     "data": {
      "image/png": "[encoded data removed]",
      "text/plain": [
       "<Figure size 864x360 with 2 Axes>"
      ]
     },
     "metadata": {
      "needs_background": "light"
     },
     "output_type": "display_data"
    }
   ],
   "source": [
    "#plotting framework\n",
    "# param = mback_params[0]\n",
    "# sol0 = scipy.integrate.solve_ivp(lambda t,y: fun(t,y,param,n,decays), [0,tf], y0 = mback_ICs[0], method = 'BDF')\n",
    "# sol1 = scipy.integrate.solve_ivp(lambda t,y: fun(t,y,param,n,decays), [0,tf], y0 = mback_ICs[1], method = 'BDF')\n",
    "param = line[48]\n",
    "fig,(ax1,ax2) = plot_projections(sol3, param)\n",
    "plot_projections(sol3b, param, axs = (ax1, ax2))\n",
    "# ax1.set_xlim(1,2.75)\n",
    "# # ax1.set_ylim(0.3,0.8)\n",
    "# ax2.set_xlim(0.6,1)\n",
    "ax2.set_ylim(0,8.5)"
   ]
  },
  {
   "cell_type": "code",
   "execution_count": 149,
   "metadata": {
    "scrolled": true
   },
   "outputs": [
    {
     "data": {
      "text/plain": [
       "[<matplotlib.lines.Line2D at 0x1a22a5fbd0>]"
      ]
     },
     "execution_count": 149,
     "metadata": {},
     "output_type": "execute_result"
    },
    {
     "data": {
      "image/png": "[encoded data removed]",
      "text/plain": [
       "<Figure size 432x288 with 1 Axes>"
      ]
     },
     "metadata": {
      "needs_background": "light"
     },
     "output_type": "display_data"
    }
   ],
   "source": [
    "plt.plot(sol2.y[0],sol2.y[1])\n",
    "plt.plot(sol2b.y[0],sol2b.y[1])"
   ]
  },
  {
   "cell_type": "code",
   "execution_count": 151,
   "metadata": {
    "scrolled": false
   },
   "outputs": [
    {
     "data": {
      "text/plain": [
       "[<matplotlib.lines.Line2D at 0x1a21097950>]"
      ]
     },
     "execution_count": 151,
     "metadata": {},
     "output_type": "execute_result"
    },
    {
     "data": {
      "image/png": "[encoded data removed]",
      "text/plain": [
       "<Figure size 432x288 with 1 Axes>"
      ]
     },
     "metadata": {
      "needs_background": "light"
     },
     "output_type": "display_data"
    }
   ],
   "source": [
    "plt.plot(sol2.y[0][350:],sol2.y[1][350:])\n",
    "plt.plot(sol2b.y[0][350:],sol2b.y[1][350:])"
   ]
  },
  {
   "cell_type": "markdown",
   "metadata": {},
   "source": [
    "### PCA Stuff"
   ]
  },
  {
   "cell_type": "code",
   "execution_count": 15,
   "metadata": {},
   "outputs": [],
   "source": [
    "#0 is small, 1 is large\n",
    "mback_param_colors = [1, 1, 0, 1, 0, 1, 1, 1, 1, 1]\n",
    "\n",
    "mbackdf1 = pd.DataFrame.from_dict(mbackparams1, orient = 'index')\n",
    "mbackdf1 = mbackdf1.T\n",
    "mbackdf2 = pd.DataFrame.from_dict(mbackparams2, orient = 'index')\n",
    "mbackdf2 = mbackdf2.T\n",
    "mbackdf3 = pd.DataFrame.from_dict(mbackparams3, orient = 'index')\n",
    "mbackdf3 = mbackdf3.T\n",
    "mbackdf4 = pd.DataFrame.from_dict(mbackparams4, orient = 'index')\n",
    "mbackdf4 = mbackdf4.T\n",
    "mbackdf5 = pd.DataFrame.from_dict(mbackparams5, orient = 'index')\n",
    "mbackdf5 = mbackdf5.T\n",
    "mbackdf6 = pd.DataFrame.from_dict(mbackparams6, orient = 'index')\n",
    "mbackdf6 = mbackdf6.T\n",
    "mbackdf7 = pd.DataFrame.from_dict(mbackparams7, orient = 'index')\n",
    "mbackdf7 = mbackdf7.T\n",
    "mbackdf8 = pd.DataFrame.from_dict(mbackparams8, orient = 'index')\n",
    "mbackdf8 = mbackdf8.T\n",
    "mbackdf9 = pd.DataFrame.from_dict(mbackparams9, orient = 'index')\n",
    "mbackdf9 = mbackdf9.T\n",
    "mbackdf10 = pd.DataFrame.from_dict(mbackparams10, orient = 'index')\n",
    "mbackdf10 = mbackdf10.T\n",
    "\n",
    "mback_param_data = pd.concat([mbackdf1,mbackdf2,mbackdf3,mbackdf4,mbackdf5,mbackdf6,mbackdf7,mbackdf8,mbackdf9,mbackdf10])\n",
    "\n",
    "mback_param_data['OrbitLength'] = mback_param_colors"
   ]
  },
  {
   "cell_type": "code",
   "execution_count": 16,
   "metadata": {},
   "outputs": [
    {
     "data": {
      "image/png": "[encoded data removed]",
      "text/plain": [
       "<Figure size 432x288 with 1 Axes>"
      ]
     },
     "metadata": {
      "needs_background": "light"
     },
     "output_type": "display_data"
    }
   ],
   "source": [
    "pca = PCA(n_components = 2)\n",
    "pca.fit(mback_param_data.iloc[:,0:17])\n",
    "mback_pca = pca.transform(mback_param_data.iloc[:,0:17])\n",
    "\n",
    "labels = mback_param_data.loc[:,'OrbitLength']\n",
    "label_colors = {0:'maroon',1:'blue'}\n",
    "cvec = [label_colors[label] for label in labels]\n",
    "plt.scatter(mback_pca[:,0],mback_pca[:,1], c = cvec)\n",
    "plt.scatter(25,25,c = 'blue',label = 'Large')#point at (25,25) just for labeling purposes\n",
    "plt.scatter(25,25,c = 'maroon', label = 'Small')\n",
    "plt.xlim(-5,5)\n",
    "plt.ylim(-5,5)\n",
    "plt.title('PCA of orbit size, M back Black Wall')\n",
    "plt.legend(loc = 'best')\n",
    "# plt.savefig('pca_all_attributes.png')\n",
    "plt.show()\n",
    "plt.close()"
   ]
  },
  {
   "cell_type": "code",
   "execution_count": null,
   "metadata": {},
   "outputs": [],
   "source": []
  }
 ],
 "metadata": {
  "kernelspec": {
   "display_name": "Python 3",
   "language": "python",
   "name": "python3"
  },
  "language_info": {
   "codemirror_mode": {
    "name": "ipython",
    "version": 3
   },
   "file_extension": ".py",
   "mimetype": "text/x-python",
   "name": "python",
   "nbconvert_exporter": "python",
   "pygments_lexer": "ipython3",
   "version": "3.7.6"
  }
 },
 "nbformat": 4,
 "nbformat_minor": 4
}
