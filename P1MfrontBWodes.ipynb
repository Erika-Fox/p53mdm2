{
 "cells": [
  {
   "cell_type": "code",
   "execution_count": 1,
   "metadata": {},
   "outputs": [],
   "source": [
    "from periodic_orbits import is_periodic, is_equilibrium, stg_coordinate, get_periodic_domains\n",
    "from ode_functions import theta_from_param,ic_function, fun, convert_to_dict, get_parameter_node, get_ic_domain, plot_projections, plot_time_series, plot_phase_projection\n",
    "from ipynb.fs.full.ode_functions import get_param_distance, param_line, lower_double_id, upper_double_id, separate, generate_all_lines, check_list\n",
    "from periodic_orbits2 import check_sequence\n",
    "import scipy\n",
    "import numpy as np\n",
    "import matplotlib.pyplot as plt\n",
    "import pandas as pd\n",
    "import warnings\n",
    "from sklearn.decomposition import PCA"
   ]
  },
  {
   "cell_type": "code",
   "execution_count": 2,
   "metadata": {},
   "outputs": [],
   "source": [
    "#decay rates\n",
    "decays = {'d_p' : 1, 'd_mc' : 1, 'd_mn' : 1}\n",
    "\n",
    "#hill coefficient\n",
    "n = 90\n",
    "\n",
    "#ode solver parameters\n",
    "t0 = 0\n",
    "tf = 100"
   ]
  },
  {
   "cell_type": "code",
   "execution_count": 3,
   "metadata": {},
   "outputs": [],
   "source": [
    "#Import parameters\n",
    "\n",
    "mfront1 = pd.read_csv(\"Parameter_datasets/P1MBWfrontnode1.csv\", header = None)\n",
    "mfrontparams1 = convert_to_dict(mfront1)\n",
    "\n",
    "mfront2 = pd.read_csv(\"Parameter_datasets/P1MBWfrontnode2.csv\", header = None)\n",
    "mfrontparams2 = convert_to_dict(mfront2)\n",
    "\n",
    "mfront3 = pd.read_csv(\"Parameter_datasets/P1MBWfrontnode3.csv\", header = None)\n",
    "mfrontparams3 = convert_to_dict(mfront3)\n",
    "\n",
    "mfront4 = pd.read_csv(\"Parameter_datasets/P1MBWfrontnode4.csv\", header = None)\n",
    "mfrontparams4 = convert_to_dict(mfront4)\n",
    "\n",
    "mfront5 = pd.read_csv(\"Parameter_datasets/P1MBWfrontnode5.csv\", header = None)\n",
    "mfrontparams5 = convert_to_dict(mfront5)\n",
    "\n",
    "mfront6 = pd.read_csv(\"Parameter_datasets/P1MBWfrontnode6.csv\", header = None)\n",
    "mfrontparams6 = convert_to_dict(mfront6)\n",
    "\n",
    "mfront7 = pd.read_csv(\"Parameter_datasets/P1MBWfrontnode7.csv\", header = None)\n",
    "mfrontparams7 = convert_to_dict(mfront7)\n",
    "\n",
    "mfront8 = pd.read_csv(\"Parameter_datasets/P1MBWfrontnode8.csv\", header = None)\n",
    "mfrontparams8 = convert_to_dict(mfront8)\n",
    "\n",
    "mfront9 = pd.read_csv(\"Parameter_datasets/P1MBWfrontnode9.csv\", header = None)\n",
    "mfrontparams9 = convert_to_dict(mfront9)\n",
    "\n",
    "mfront10 = pd.read_csv(\"Parameter_datasets/P1MBWfrontnode10.csv\", header = None)\n",
    "mfrontparams10 = convert_to_dict(mfront10)\n",
    "\n",
    "mfront_params = [mfrontparams1, mfrontparams2, mfrontparams3, mfrontparams4, mfrontparams5, mfrontparams6, mfrontparams7, mfrontparams8, mfrontparams9,\n",
    "             mfrontparams10]"
   ]
  },
  {
   "cell_type": "code",
   "execution_count": 4,
   "metadata": {},
   "outputs": [],
   "source": [
    "#generate ICs in high Mn region to avoid overshoot\n",
    "mfront_ICs = []\n",
    "for i in range(10):\n",
    "    mfront_ICs.append(ic_function(\"112\", mfront_params[0]))"
   ]
  },
  {
   "cell_type": "code",
   "execution_count": 5,
   "metadata": {},
   "outputs": [
    {
     "name": "stderr",
     "output_type": "stream",
     "text": [
      "/Users/Erika/Documents/Math/Research/periodic_orbits.py:96: UserWarning: get_periodic_domains looked at all time points but did not verify a periodic sequence to desired verification level of num_periods_to_verify = 2. The trajectory may not be periodic.\n",
      "  warnings.warn('get_periodic_domains looked at all time points but did not verify a periodic sequence to desired verification level of num_periods_to_verify = {}. The trajectory may not be periodic.'.format(num_periods_to_verify))\n"
     ]
    }
   ],
   "source": [
    "#compute orbit lengths for all parameter, initial condition combinations\n",
    "mfront_lengths = []#store orbit lengths, each set of 10 lengths corresponds to different ICs within same parameter\n",
    "mfront_sizes = []\n",
    "for param in mfront_params:\n",
    "    theta = theta_from_param(param)\n",
    "    for IC in mfront_ICs:\n",
    "        sol = scipy.integrate.solve_ivp(lambda t,y: fun(t,y,param,n,decays), [0,tf], y0 = IC, method = 'BDF')\n",
    "        output = get_periodic_domains(sol.y,theta,num_periods_to_verify = 2)\n",
    "        mfront_lengths.append(len(output))\n",
    "        mfront_sizes.append(upper_double_id(output))"
   ]
  },
  {
   "cell_type": "code",
   "execution_count": 6,
   "metadata": {},
   "outputs": [
    {
     "name": "stdout",
     "output_type": "stream",
     "text": [
      "mfront_param 0 : [10, 10, 10, 10, 10, 10, 10, 10, 10, 10]\n",
      "mfront_param 1 : [6, 70, 6, 6, 6, 70, 6, 70, 6, 6]\n",
      "mfront_param 2 : [9, 9, 9, 10, 9, 9, 9, 9, 9, 9]\n",
      "mfront_param 3 : [10, 10, 10, 10, 10, 10, 10, 10, 10, 10]\n",
      "mfront_param 4 : [6, 6, 6, 6, 6, 6, 6, 6, 6, 6]\n",
      "mfront_param 5 : [9, 9, 9, 9, 9, 9, 9, 9, 9, 9]\n",
      "mfront_param 6 : [10, 10, 10, 10, 10, 10, 10, 10, 9, 10]\n",
      "mfront_param 7 : [10, 9, 10, 10, 10, 10, 10, 10, 10, 10]\n",
      "mfront_param 8 : [10, 9, 117, 10, 126, 135, 10, 99, 10, 10]\n",
      "mfront_param 9 : [10, 10, 10, 10, 10, 10, 10, 10, 10, 10]\n"
     ]
    }
   ],
   "source": [
    "#observe orbit lengths (columns are different initial conditions)\n",
    "endpts = [0,10,20,30,40,50,60,70,80,90,100]\n",
    "for i in range(len(endpts)-1):\n",
    "    print('mfront_param', i, ':', mfront_lengths[endpts[i]:endpts[i+1]])"
   ]
  },
  {
   "cell_type": "code",
   "execution_count": 7,
   "metadata": {},
   "outputs": [
    {
     "name": "stdout",
     "output_type": "stream",
     "text": [
      "mfront_param 0 : ['Large', 'Large', 'Large', 'Large', 'Large', 'Large', 'Large', 'Large', 'Large', 'Large']\n",
      "mfront_param 1 : ['Large', 'Large', 'Large', 'Large', 'Large', 'Large', 'Large', 'Large', 'Large', 'Large']\n",
      "mfront_param 2 : ['Large', 'Large', 'Large', 'Large', 'Large', 'Large', 'Large', 'Large', 'Large', 'Large']\n",
      "mfront_param 3 : ['Large', 'Large', 'Large', 'Large', 'Large', 'Large', 'Large', 'Large', 'Large', 'Large']\n",
      "mfront_param 4 : ['Large', 'Large', 'Large', 'Large', 'Large', 'Large', 'Large', 'Large', 'Large', 'Large']\n",
      "mfront_param 5 : ['Large', 'Large', 'Large', 'Large', 'Large', 'Large', 'Large', 'Large', 'Large', 'Large']\n",
      "mfront_param 6 : ['Large', 'Large', 'Large', 'Large', 'Large', 'Large', 'Large', 'Large', 'Large', 'Large']\n",
      "mfront_param 7 : ['Large', 'Large', 'Large', 'Large', 'Large', 'Large', 'Large', 'Large', 'Large', 'Large']\n",
      "mfront_param 8 : ['Large', 'Large', 'Large', 'Large', 'Large', 'Large', 'Large', 'Large', 'Large', 'Large']\n",
      "mfront_param 9 : ['Large', 'Large', 'Large', 'Large', 'Large', 'Large', 'Large', 'Large', 'Large', 'Large']\n"
     ]
    }
   ],
   "source": [
    "#observe orbit lengths (columns are different initial conditions)\n",
    "endpts = [0,10,20,30,40,50,60,70,80,90,100]\n",
    "for i in range(len(endpts)-1):\n",
    "    print('mfront_param', i, ':', mfront_sizes[endpts[i]:endpts[i+1]])"
   ]
  },
  {
   "cell_type": "markdown",
   "metadata": {},
   "source": [
    "Not very interesting to pursue linear connections or PCA analysis here (do PCA to have for combined PCA, though)... Perhaps sample parameter node more densely (as with no BW case) and see if other lengths appear."
   ]
  },
  {
   "cell_type": "code",
   "execution_count": 9,
   "metadata": {},
   "outputs": [
    {
     "data": {
      "image/png": "[encoded data removed]",
      "text/plain": [
       "<Figure size 864x360 with 2 Axes>"
      ]
     },
     "metadata": {
      "needs_background": "light"
     },
     "output_type": "display_data"
    }
   ],
   "source": [
    "#plotting framework\n",
    "param = mfront_params[0]\n",
    "sol0 = scipy.integrate.solve_ivp(lambda t,y: fun(t,y,param,n,decays), [0,tf], y0 = mfront_ICs[0], method = 'BDF')\n",
    "sol1 = scipy.integrate.solve_ivp(lambda t,y: fun(t,y,param,n,decays), [0,tf], y0 = mfront_ICs[1], method = 'BDF')\n",
    "\n",
    "fig,(ax1,ax2) = plot_projections(sol0, param)\n",
    "plot_projections(sol1, param, axs = (ax1, ax2))\n",
    "# ax1.set_xlim(1,2.75)\n",
    "# # ax1.set_ylim(0.3,0.8)\n",
    "# ax2.set_xlim(0.6,1)\n",
    "# ax2.set_ylim(0,8.5)"
   ]
  },
  {
   "cell_type": "markdown",
   "metadata": {},
   "source": [
    "### PCA Stuff"
   ]
  },
  {
   "cell_type": "code",
   "execution_count": 10,
   "metadata": {},
   "outputs": [],
   "source": [
    "#0 is small, 1 is large\n",
    "mfront_param_colors = [1, 1, 1, 1, 1, 1, 1, 1, 1, 1]\n",
    "\n",
    "mfrontdf1 = pd.DataFrame.from_dict(mfrontparams1, orient = 'index')\n",
    "mfrontdf1 = mfrontdf1.T\n",
    "mfrontdf2 = pd.DataFrame.from_dict(mfrontparams2, orient = 'index')\n",
    "mfrontdf2 = mfrontdf2.T\n",
    "mfrontdf3 = pd.DataFrame.from_dict(mfrontparams3, orient = 'index')\n",
    "mfrontdf3 = mfrontdf3.T\n",
    "mfrontdf4 = pd.DataFrame.from_dict(mfrontparams4, orient = 'index')\n",
    "mfrontdf4 = mfrontdf4.T\n",
    "mfrontdf5 = pd.DataFrame.from_dict(mfrontparams5, orient = 'index')\n",
    "mfrontdf5 = mfrontdf5.T\n",
    "mfrontdf6 = pd.DataFrame.from_dict(mfrontparams6, orient = 'index')\n",
    "mfrontdf6 = mfrontdf6.T\n",
    "mfrontdf7 = pd.DataFrame.from_dict(mfrontparams7, orient = 'index')\n",
    "mfrontdf7 = mfrontdf7.T\n",
    "mfrontdf8 = pd.DataFrame.from_dict(mfrontparams8, orient = 'index')\n",
    "mfrontdf8 = mfrontdf8.T\n",
    "mfrontdf9 = pd.DataFrame.from_dict(mfrontparams9, orient = 'index')\n",
    "mfrontdf9 = mfrontdf9.T\n",
    "mfrontdf10 = pd.DataFrame.from_dict(mfrontparams10, orient = 'index')\n",
    "mfrontdf10 = mfrontdf10.T\n",
    "\n",
    "mfront_param_data = pd.concat([mfrontdf1,mfrontdf2,mfrontdf3,mfrontdf4,mfrontdf5,mfrontdf6,mfrontdf7,mfrontdf8,mfrontdf9,mfrontdf10])\n",
    "\n",
    "mfront_param_data['OrbitLength'] = mfront_param_colors"
   ]
  },
  {
   "cell_type": "code",
   "execution_count": 11,
   "metadata": {},
   "outputs": [
    {
     "data": {
      "image/png": "[encoded data removed]",
      "text/plain": [
       "<Figure size 432x288 with 1 Axes>"
      ]
     },
     "metadata": {
      "needs_background": "light"
     },
     "output_type": "display_data"
    }
   ],
   "source": [
    "pca = PCA(n_components = 2)\n",
    "pca.fit(mfront_param_data.iloc[:,0:17])\n",
    "mfront_pca = pca.transform(mfront_param_data.iloc[:,0:17])\n",
    "\n",
    "labels = mfront_param_data.loc[:,'OrbitLength']\n",
    "label_colors = {0:'maroon',1:'blue'}\n",
    "cvec = [label_colors[label] for label in labels]\n",
    "plt.scatter(mfront_pca[:,0],mfront_pca[:,1], c = cvec)\n",
    "plt.scatter(25,25,c = 'blue',label = 'Large')#point at (25,25) just for labeling purposes\n",
    "plt.scatter(25,25,c = 'maroon', label = 'Small')\n",
    "plt.xlim(-5,5)\n",
    "plt.ylim(-5,5)\n",
    "plt.title('PCA of orbit size, M Front Black Wall')\n",
    "plt.legend(loc = 'best')\n",
    "# plt.savefig('pca_all_attributes.png')\n",
    "plt.show()\n",
    "plt.close()"
   ]
  },
  {
   "cell_type": "code",
   "execution_count": null,
   "metadata": {},
   "outputs": [],
   "source": []
  }
 ],
 "metadata": {
  "kernelspec": {
   "display_name": "Python 3",
   "language": "python",
   "name": "python3"
  },
  "language_info": {
   "codemirror_mode": {
    "name": "ipython",
    "version": 3
   },
   "file_extension": ".py",
   "mimetype": "text/x-python",
   "name": "python",
   "nbconvert_exporter": "python",
   "pygments_lexer": "ipython3",
   "version": "3.7.6"
  }
 },
 "nbformat": 4,
 "nbformat_minor": 4
}
